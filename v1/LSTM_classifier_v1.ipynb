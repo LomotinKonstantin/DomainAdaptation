{
 "cells": [
  {
   "cell_type": "code",
   "execution_count": 1,
   "metadata": {
    "collapsed": true
   },
   "outputs": [],
   "source": [
    "%load_ext autoreload\n",
    "%autoreload 2"
   ]
  },
  {
   "cell_type": "code",
   "execution_count": 1,
   "metadata": {},
   "outputs": [
    {
     "name": "stderr",
     "output_type": "stream",
     "text": [
      "Using TensorFlow backend.\n"
     ]
    }
   ],
   "source": [
    "import tensorflow as tf\n",
    "import pandas as pd\n",
    "import numpy as np\n",
    "from IPython.display import display, clear_output\n",
    "from keras.models import Sequential\n",
    "from keras.layers import LSTM, Dense\n",
    "from sklearn.model_selection import train_test_split\n",
    "from sklearn.metrics import balanced_accuracy_score, accuracy_score\n",
    "# from matplotlib import pyplot as plt\n",
    "# %matplotlib inline\n",
    "\n",
    "# from utils import load_vectors, rnd_labeled_data_generator, test_data_generator, conseq_labeled_data_generator"
   ]
  },
  {
   "cell_type": "markdown",
   "metadata": {},
   "source": [
    "Загружаем векторы"
   ]
  },
  {
   "cell_type": "code",
   "execution_count": 3,
   "metadata": {
    "collapsed": true
   },
   "outputs": [],
   "source": [
    "vectors = {\n",
    "    \"auto\": \"../data/auto_vectors.csv\",\n",
    "    \"mus\": \"../data/mus_vectors.csv\",\n",
    "    \"movies\": \"../data/movies_vectors.csv\",\n",
    "    \"electr\": \"../data/electr_vectors.csv\"\n",
    "}"
   ]
  },
  {
   "cell_type": "code",
   "execution_count": 4,
   "metadata": {
    "scrolled": true
   },
   "outputs": [
    {
     "data": {
      "text/plain": [
       "'Reading line 20473'"
      ]
     },
     "metadata": {},
     "output_type": "display_data"
    },
    {
     "name": "stdout",
     "output_type": "stream",
     "text": [
      "Wall time: 10min 42s\n"
     ]
    }
   ],
   "source": [
    "%%time\n",
    "auto_df = load_vectors(vectors[\"auto\"], manually=True)"
   ]
  },
  {
   "cell_type": "code",
   "execution_count": 8,
   "metadata": {},
   "outputs": [
    {
     "data": {
      "text/html": [
       "<div>\n",
       "<style scoped>\n",
       "    .dataframe tbody tr th:only-of-type {\n",
       "        vertical-align: middle;\n",
       "    }\n",
       "\n",
       "    .dataframe tbody tr th {\n",
       "        vertical-align: top;\n",
       "    }\n",
       "\n",
       "    .dataframe thead th {\n",
       "        text-align: right;\n",
       "    }\n",
       "</style>\n",
       "<table border=\"1\" class=\"dataframe\">\n",
       "  <thead>\n",
       "    <tr style=\"text-align: right;\">\n",
       "      <th></th>\n",
       "      <th>vectors</th>\n",
       "      <th>target_bin</th>\n",
       "    </tr>\n",
       "    <tr>\n",
       "      <th>overall</th>\n",
       "      <th></th>\n",
       "      <th></th>\n",
       "    </tr>\n",
       "  </thead>\n",
       "  <tbody>\n",
       "    <tr>\n",
       "      <th>1.0</th>\n",
       "      <td>542</td>\n",
       "      <td>542</td>\n",
       "    </tr>\n",
       "    <tr>\n",
       "      <th>2.0</th>\n",
       "      <td>606</td>\n",
       "      <td>606</td>\n",
       "    </tr>\n",
       "    <tr>\n",
       "      <th>3.0</th>\n",
       "      <td>1430</td>\n",
       "      <td>1430</td>\n",
       "    </tr>\n",
       "    <tr>\n",
       "      <th>4.0</th>\n",
       "      <td>3967</td>\n",
       "      <td>3967</td>\n",
       "    </tr>\n",
       "    <tr>\n",
       "      <th>5.0</th>\n",
       "      <td>13928</td>\n",
       "      <td>13928</td>\n",
       "    </tr>\n",
       "  </tbody>\n",
       "</table>\n",
       "</div>"
      ],
      "text/plain": [
       "         vectors  target_bin\n",
       "overall                     \n",
       "1.0          542         542\n",
       "2.0          606         606\n",
       "3.0         1430        1430\n",
       "4.0         3967        3967\n",
       "5.0        13928       13928"
      ]
     },
     "execution_count": 8,
     "metadata": {},
     "output_type": "execute_result"
    }
   ],
   "source": [
    "auto_df.groupby(\"overall\").count()"
   ]
  },
  {
   "cell_type": "markdown",
   "metadata": {},
   "source": [
    "Классификация с 5 категориями, не бинарная"
   ]
  },
  {
   "cell_type": "code",
   "execution_count": 8,
   "metadata": {
    "collapsed": true
   },
   "outputs": [],
   "source": [
    "auto_df[\"target\"] = pd.get_dummies(auto_df[\"overall\"]).values.tolist()\n",
    "auto_df[\"target\"] = auto_df[\"target\"].apply(np.array)"
   ]
  },
  {
   "cell_type": "code",
   "execution_count": 9,
   "metadata": {},
   "outputs": [
    {
     "data": {
      "text/html": [
       "<div>\n",
       "<style scoped>\n",
       "    .dataframe tbody tr th:only-of-type {\n",
       "        vertical-align: middle;\n",
       "    }\n",
       "\n",
       "    .dataframe tbody tr th {\n",
       "        vertical-align: top;\n",
       "    }\n",
       "\n",
       "    .dataframe thead th {\n",
       "        text-align: right;\n",
       "    }\n",
       "</style>\n",
       "<table border=\"1\" class=\"dataframe\">\n",
       "  <thead>\n",
       "    <tr style=\"text-align: right;\">\n",
       "      <th></th>\n",
       "      <th>overall</th>\n",
       "      <th>vectors</th>\n",
       "      <th>target</th>\n",
       "    </tr>\n",
       "  </thead>\n",
       "  <tbody>\n",
       "    <tr>\n",
       "      <th>0</th>\n",
       "      <td>5.0</td>\n",
       "      <td>[[-0.67167366, 1.4340448, 0.70772099, 0.267104...</td>\n",
       "      <td>[0, 0, 0, 0, 1]</td>\n",
       "    </tr>\n",
       "    <tr>\n",
       "      <th>1</th>\n",
       "      <td>4.0</td>\n",
       "      <td>[[-3.4646065, 0.90924335, 0.051792312, -0.0250...</td>\n",
       "      <td>[0, 0, 0, 1, 0]</td>\n",
       "    </tr>\n",
       "    <tr>\n",
       "      <th>2</th>\n",
       "      <td>5.0</td>\n",
       "      <td>[[-0.34402627, -1.2019368, 0.49981338, -1.2384...</td>\n",
       "      <td>[0, 0, 0, 0, 1]</td>\n",
       "    </tr>\n",
       "    <tr>\n",
       "      <th>3</th>\n",
       "      <td>5.0</td>\n",
       "      <td>[[-1.187706, 0.5451839, 1.5461149, -0.60059845...</td>\n",
       "      <td>[0, 0, 0, 0, 1]</td>\n",
       "    </tr>\n",
       "    <tr>\n",
       "      <th>4</th>\n",
       "      <td>5.0</td>\n",
       "      <td>[[-0.78727818, 1.2093724, -2.3347111, -2.42030...</td>\n",
       "      <td>[0, 0, 0, 0, 1]</td>\n",
       "    </tr>\n",
       "  </tbody>\n",
       "</table>\n",
       "</div>"
      ],
      "text/plain": [
       "   overall                                            vectors           target\n",
       "0      5.0  [[-0.67167366, 1.4340448, 0.70772099, 0.267104...  [0, 0, 0, 0, 1]\n",
       "1      4.0  [[-3.4646065, 0.90924335, 0.051792312, -0.0250...  [0, 0, 0, 1, 0]\n",
       "2      5.0  [[-0.34402627, -1.2019368, 0.49981338, -1.2384...  [0, 0, 0, 0, 1]\n",
       "3      5.0  [[-1.187706, 0.5451839, 1.5461149, -0.60059845...  [0, 0, 0, 0, 1]\n",
       "4      5.0  [[-0.78727818, 1.2093724, -2.3347111, -2.42030...  [0, 0, 0, 0, 1]"
      ]
     },
     "execution_count": 9,
     "metadata": {},
     "output_type": "execute_result"
    }
   ],
   "source": [
    "auto_df.head()"
   ]
  },
  {
   "cell_type": "markdown",
   "metadata": {},
   "source": [
    "Если делать zero-padding, очень быстро возникает MemoryError. Лучше учить по одному сэмплу"
   ]
  },
  {
   "cell_type": "code",
   "execution_count": 5,
   "metadata": {
    "collapsed": true
   },
   "outputs": [],
   "source": [
    "def max_len_padding(list_of_matrices):\n",
    "    pairwise_len_max = lambda a, b: max(len(a), len(b))\n",
    "    max_len = max([i.shape[0] for i in list_of_matrices])\n",
    "    return max_len\n",
    "\n",
    "def pad_by_zero_seqs_generator(list_of_matrices, y_list, timesteps, batch_size):\n",
    "#     max_len = timesteps\n",
    "#     aligned = [np.pad(i, ((0, max_len - i.shape[0]), (0, 0)), \"constant\", constant_values=0.0) for i in list_of_matrices]\n",
    "#     aligned = np.array(aligned)\n",
    "    while True:\n",
    "        indices = np.random.choice(np.arange(len(list_of_matrices)), size=[batch_size])\n",
    "        x = np.array(list_of_matrices)[indices]\n",
    "        x = [np.pad(i, ((0, timesteps - i.shape[0]), (0, 0)), \"constant\", constant_values=0.0) for i in x]\n",
    "        x = np.array(x)\n",
    "        y = np.array(y_list)[indices].reshape([1, 1, 1])\n",
    "        yield x, y"
   ]
  },
  {
   "cell_type": "code",
   "execution_count": 136,
   "metadata": {
    "collapsed": true
   },
   "outputs": [],
   "source": [
    "X_train, X_test, y_train, y_test = train_test_split(auto_df[\"vectors\"].values, auto_df[\"target\"].values, test_size=0.3)"
   ]
  },
  {
   "cell_type": "code",
   "execution_count": 137,
   "metadata": {
    "collapsed": true
   },
   "outputs": [],
   "source": [
    "y_test = np.dstack(y_test)[0].T\n",
    "y_train = np.dstack(y_train)[0].T"
   ]
  },
  {
   "cell_type": "code",
   "execution_count": 33,
   "metadata": {
    "collapsed": true
   },
   "outputs": [],
   "source": [
    "from keras.models import Sequential\n",
    "from keras.layers import LSTM, Dense"
   ]
  },
  {
   "cell_type": "code",
   "execution_count": 300,
   "metadata": {},
   "outputs": [
    {
     "name": "stdout",
     "output_type": "stream",
     "text": [
      "Epoch 1/150\n",
      "30/30 [==============================] - 5s 161ms/step - loss: 0.3874 - acc: 0.8643 - val_loss: 0.3462 - val_acc: 0.8614\n",
      "Epoch 2/150\n",
      "30/30 [==============================] - 1s 38ms/step - loss: 0.3863 - acc: 0.8298 - val_loss: 0.3375 - val_acc: 0.8574\n",
      "Epoch 3/150\n",
      "30/30 [==============================] - 1s 38ms/step - loss: 0.3638 - acc: 0.8439 - val_loss: 0.3783 - val_acc: 0.8419\n",
      "Epoch 4/150\n",
      "30/30 [==============================] - 1s 37ms/step - loss: 0.2833 - acc: 0.8992 - val_loss: 0.3457 - val_acc: 0.8681\n",
      "Epoch 5/150\n",
      "30/30 [==============================] - 1s 34ms/step - loss: 0.3742 - acc: 0.8674 - val_loss: 0.2890 - val_acc: 0.8927\n",
      "Epoch 6/150\n",
      "30/30 [==============================] - 1s 30ms/step - loss: 0.3299 - acc: 0.8698 - val_loss: 0.3541 - val_acc: 0.8629\n",
      "Epoch 7/150\n",
      "30/30 [==============================] - 1s 35ms/step - loss: 0.3428 - acc: 0.8640 - val_loss: 0.3712 - val_acc: 0.8369\n",
      "Epoch 8/150\n",
      "30/30 [==============================] - 1s 40ms/step - loss: 0.3944 - acc: 0.8351 - val_loss: 0.3348 - val_acc: 0.8606\n",
      "Epoch 9/150\n",
      "30/30 [==============================] - 1s 33ms/step - loss: 0.3276 - acc: 0.8581 - val_loss: 0.3431 - val_acc: 0.8515\n",
      "Epoch 10/150\n",
      "30/30 [==============================] - 1s 37ms/step - loss: 0.3337 - acc: 0.8680 - val_loss: 0.3119 - val_acc: 0.8751\n",
      "Epoch 11/150\n",
      "30/30 [==============================] - 1s 45ms/step - loss: 0.3444 - acc: 0.8661 - val_loss: 0.3554 - val_acc: 0.8559\n",
      "Epoch 12/150\n",
      "30/30 [==============================] - 1s 32ms/step - loss: 0.3437 - acc: 0.8634 - val_loss: 0.3112 - val_acc: 0.8731\n",
      "Epoch 13/150\n",
      "30/30 [==============================] - 1s 35ms/step - loss: 0.2328 - acc: 0.9199 - val_loss: 0.3078 - val_acc: 0.8810\n",
      "Epoch 14/150\n",
      "30/30 [==============================] - 1s 34ms/step - loss: 0.4186 - acc: 0.8430 - val_loss: 0.3380 - val_acc: 0.8606\n",
      "Epoch 15/150\n",
      "30/30 [==============================] - 1s 33ms/step - loss: 0.3073 - acc: 0.8790 - val_loss: 0.3071 - val_acc: 0.8788\n",
      "Epoch 16/150\n",
      "30/30 [==============================] - 1s 40ms/step - loss: 0.2786 - acc: 0.9038 - val_loss: 0.2883 - val_acc: 0.8869\n",
      "Epoch 17/150\n",
      "30/30 [==============================] - 1s 31ms/step - loss: 0.3658 - acc: 0.8339 - val_loss: 0.3059 - val_acc: 0.8850\n",
      "Epoch 18/150\n",
      "30/30 [==============================] - 1s 39ms/step - loss: 0.3359 - acc: 0.8738 - val_loss: 0.3210 - val_acc: 0.8688\n",
      "Epoch 19/150\n",
      "30/30 [==============================] - 1s 35ms/step - loss: 0.3055 - acc: 0.8821 - val_loss: 0.3091 - val_acc: 0.8739\n",
      "Epoch 20/150\n",
      "30/30 [==============================] - 1s 41ms/step - loss: 0.2564 - acc: 0.9048 - val_loss: 0.3444 - val_acc: 0.8580\n",
      "Epoch 21/150\n",
      "30/30 [==============================] - 1s 32ms/step - loss: 0.3313 - acc: 0.8773 - val_loss: 0.3392 - val_acc: 0.8592\n",
      "Epoch 22/150\n",
      "30/30 [==============================] - 1s 38ms/step - loss: 0.4604 - acc: 0.7756 - val_loss: 0.3012 - val_acc: 0.8842\n",
      "Epoch 23/150\n",
      "30/30 [==============================] - 1s 34ms/step - loss: 0.3889 - acc: 0.8204 - val_loss: 0.3252 - val_acc: 0.8655\n",
      "Epoch 24/150\n",
      "30/30 [==============================] - 1s 31ms/step - loss: 0.2701 - acc: 0.9055 - val_loss: 0.2974 - val_acc: 0.8800\n",
      "Epoch 25/150\n",
      "30/30 [==============================] - 1s 30ms/step - loss: 0.2522 - acc: 0.9050 - val_loss: 0.2829 - val_acc: 0.8921\n",
      "Epoch 26/150\n",
      "30/30 [==============================] - 1s 36ms/step - loss: 0.3265 - acc: 0.8556 - val_loss: 0.2871 - val_acc: 0.8829\n",
      "Epoch 27/150\n",
      "30/30 [==============================] - 1s 35ms/step - loss: 0.3245 - acc: 0.8805 - val_loss: 0.2543 - val_acc: 0.9069\n",
      "Epoch 28/150\n",
      "30/30 [==============================] - 1s 36ms/step - loss: 0.3457 - acc: 0.8635 - val_loss: 0.3014 - val_acc: 0.8837\n",
      "Epoch 29/150\n",
      "30/30 [==============================] - 1s 32ms/step - loss: 0.3988 - acc: 0.8285 - val_loss: 0.3213 - val_acc: 0.8659\n",
      "Epoch 30/150\n",
      "30/30 [==============================] - 1s 39ms/step - loss: 0.3454 - acc: 0.8674 - val_loss: 0.3444 - val_acc: 0.8560\n",
      "Epoch 31/150\n",
      "30/30 [==============================] - 1s 35ms/step - loss: 0.3572 - acc: 0.8461 - val_loss: 0.3219 - val_acc: 0.8718\n",
      "Epoch 32/150\n",
      "30/30 [==============================] - 1s 41ms/step - loss: 0.3693 - acc: 0.8196 - val_loss: 0.3069 - val_acc: 0.8733\n",
      "Epoch 33/150\n",
      "30/30 [==============================] - 1s 38ms/step - loss: 0.3664 - acc: 0.8128 - val_loss: 0.3145 - val_acc: 0.8746\n",
      "Epoch 34/150\n",
      "30/30 [==============================] - 1s 39ms/step - loss: 0.3503 - acc: 0.8532 - val_loss: 0.3274 - val_acc: 0.8571\n",
      "Epoch 35/150\n",
      "30/30 [==============================] - 1s 33ms/step - loss: 0.2936 - acc: 0.8641 - val_loss: 0.3186 - val_acc: 0.8745\n",
      "Epoch 36/150\n",
      "30/30 [==============================] - 1s 38ms/step - loss: 0.3688 - acc: 0.8273 - val_loss: 0.3161 - val_acc: 0.8694\n",
      "Epoch 37/150\n",
      "30/30 [==============================] - 1s 39ms/step - loss: 0.3166 - acc: 0.8755 - val_loss: 0.3363 - val_acc: 0.8623\n",
      "Epoch 38/150\n",
      "30/30 [==============================] - 1s 41ms/step - loss: 0.3867 - acc: 0.7903 - val_loss: 0.3414 - val_acc: 0.8700\n",
      "Epoch 39/150\n",
      "30/30 [==============================] - 1s 43ms/step - loss: 0.3088 - acc: 0.8908 - val_loss: 0.3256 - val_acc: 0.8631\n",
      "Epoch 40/150\n",
      "30/30 [==============================] - 2s 51ms/step - loss: 0.4090 - acc: 0.8272 - val_loss: 0.3574 - val_acc: 0.8413\n",
      "Epoch 41/150\n",
      "30/30 [==============================] - 1s 31ms/step - loss: 0.2894 - acc: 0.8826 - val_loss: 0.3026 - val_acc: 0.8841\n",
      "Epoch 42/150\n",
      "30/30 [==============================] - 1s 33ms/step - loss: 0.3083 - acc: 0.8769 - val_loss: 0.3685 - val_acc: 0.8407\n",
      "Epoch 43/150\n",
      "30/30 [==============================] - 1s 28ms/step - loss: 0.2642 - acc: 0.9058 - val_loss: 0.3652 - val_acc: 0.8499\n",
      "Epoch 44/150\n",
      "30/30 [==============================] - 1s 34ms/step - loss: 0.3515 - acc: 0.8430 - val_loss: 0.2862 - val_acc: 0.8728\n",
      "Epoch 45/150\n",
      "30/30 [==============================] - 1s 31ms/step - loss: 0.2699 - acc: 0.8992 - val_loss: 0.3599 - val_acc: 0.8473\n",
      "Epoch 46/150\n",
      "30/30 [==============================] - 1s 33ms/step - loss: 0.2631 - acc: 0.8812 - val_loss: 0.3118 - val_acc: 0.8704\n",
      "Epoch 47/150\n",
      "30/30 [==============================] - 1s 31ms/step - loss: 0.1539 - acc: 0.9526 - val_loss: 0.3561 - val_acc: 0.8573\n",
      "Epoch 48/150\n",
      "30/30 [==============================] - 1s 45ms/step - loss: 0.3515 - acc: 0.8659 - val_loss: 0.2938 - val_acc: 0.8907\n",
      "Epoch 49/150\n",
      "30/30 [==============================] - 1s 31ms/step - loss: 0.2687 - acc: 0.9034 - val_loss: 0.2675 - val_acc: 0.8971\n",
      "Epoch 50/150\n",
      "30/30 [==============================] - 1s 36ms/step - loss: 0.4094 - acc: 0.8118 - val_loss: 0.3057 - val_acc: 0.8842\n",
      "Epoch 51/150\n",
      "30/30 [==============================] - 1s 35ms/step - loss: 0.3207 - acc: 0.8715 - val_loss: 0.3099 - val_acc: 0.8715\n",
      "Epoch 52/150\n",
      "30/30 [==============================] - 1s 27ms/step - loss: 0.2896 - acc: 0.8821 - val_loss: 0.3168 - val_acc: 0.8664\n",
      "Epoch 53/150\n",
      "30/30 [==============================] - 1s 29ms/step - loss: 0.3582 - acc: 0.8669 - val_loss: 0.2902 - val_acc: 0.8845\n",
      "Epoch 54/150\n",
      "30/30 [==============================] - 1s 37ms/step - loss: 0.3409 - acc: 0.8464 - val_loss: 0.3617 - val_acc: 0.8584\n",
      "Epoch 55/150\n",
      "30/30 [==============================] - 1s 42ms/step - loss: 0.2969 - acc: 0.8824 - val_loss: 0.3505 - val_acc: 0.8600\n",
      "Epoch 56/150\n",
      "30/30 [==============================] - 1s 34ms/step - loss: 0.3472 - acc: 0.8487 - val_loss: 0.3076 - val_acc: 0.8780\n",
      "Epoch 57/150\n",
      "30/30 [==============================] - 1s 27ms/step - loss: 0.3427 - acc: 0.8484 - val_loss: 0.3371 - val_acc: 0.8521\n",
      "Epoch 58/150\n",
      "30/30 [==============================] - 1s 36ms/step - loss: 0.2669 - acc: 0.8936 - val_loss: 0.3046 - val_acc: 0.8749\n",
      "Epoch 59/150\n",
      "30/30 [==============================] - 1s 28ms/step - loss: 0.2937 - acc: 0.8721 - val_loss: 0.3301 - val_acc: 0.8615\n",
      "Epoch 60/150\n",
      "30/30 [==============================] - 1s 30ms/step - loss: 0.2974 - acc: 0.8803 - val_loss: 0.2876 - val_acc: 0.8852\n",
      "Epoch 61/150\n",
      "30/30 [==============================] - 1s 33ms/step - loss: 0.3509 - acc: 0.8699 - val_loss: 0.2995 - val_acc: 0.8772\n",
      "Epoch 62/150\n",
      "30/30 [==============================] - 1s 32ms/step - loss: 0.2456 - acc: 0.9036 - val_loss: 0.2909 - val_acc: 0.8957\n",
      "Epoch 63/150\n",
      "30/30 [==============================] - 1s 25ms/step - loss: 0.2984 - acc: 0.8894 - val_loss: 0.3041 - val_acc: 0.8835\n",
      "Epoch 64/150\n",
      "30/30 [==============================] - 1s 31ms/step - loss: 0.3000 - acc: 0.8792 - val_loss: 0.3053 - val_acc: 0.8722\n",
      "Epoch 65/150\n",
      "30/30 [==============================] - 1s 28ms/step - loss: 0.2969 - acc: 0.9031 - val_loss: 0.3265 - val_acc: 0.8658\n",
      "Epoch 66/150\n",
      "30/30 [==============================] - 1s 28ms/step - loss: 0.2847 - acc: 0.9077 - val_loss: 0.3480 - val_acc: 0.8583\n",
      "Epoch 67/150\n",
      "30/30 [==============================] - 1s 28ms/step - loss: 0.2759 - acc: 0.8902 - val_loss: 0.3457 - val_acc: 0.8632\n",
      "Epoch 68/150\n",
      "30/30 [==============================] - 1s 36ms/step - loss: 0.3813 - acc: 0.8460 - val_loss: 0.3171 - val_acc: 0.8742\n",
      "Epoch 69/150\n",
      "30/30 [==============================] - 1s 30ms/step - loss: 0.2034 - acc: 0.9354 - val_loss: 0.3650 - val_acc: 0.8402\n",
      "Epoch 70/150\n",
      "30/30 [==============================] - 1s 27ms/step - loss: 0.2745 - acc: 0.9012 - val_loss: 0.3710 - val_acc: 0.8446\n",
      "Epoch 71/150\n",
      "30/30 [==============================] - 1s 29ms/step - loss: 0.2381 - acc: 0.9150 - val_loss: 0.3296 - val_acc: 0.8686\n",
      "Epoch 72/150\n",
      "30/30 [==============================] - 1s 30ms/step - loss: 0.4066 - acc: 0.8374 - val_loss: 0.2698 - val_acc: 0.9034\n",
      "Epoch 73/150\n",
      "30/30 [==============================] - 1s 28ms/step - loss: 0.2648 - acc: 0.9000 - val_loss: 0.3047 - val_acc: 0.8805\n",
      "Epoch 74/150\n",
      "30/30 [==============================] - 1s 38ms/step - loss: 0.3956 - acc: 0.8372 - val_loss: 0.3367 - val_acc: 0.8594\n",
      "Epoch 75/150\n",
      "30/30 [==============================] - 1s 34ms/step - loss: 0.4853 - acc: 0.7838 - val_loss: 0.3294 - val_acc: 0.8596\n",
      "Epoch 76/150\n",
      "30/30 [==============================] - 1s 37ms/step - loss: 0.3539 - acc: 0.8566 - val_loss: 0.3380 - val_acc: 0.8645\n",
      "Epoch 77/150\n",
      "30/30 [==============================] - 1s 27ms/step - loss: 0.2679 - acc: 0.9042 - val_loss: 0.3133 - val_acc: 0.8760\n",
      "Epoch 78/150\n",
      "30/30 [==============================] - 1s 29ms/step - loss: 0.4047 - acc: 0.8337 - val_loss: 0.3532 - val_acc: 0.8546\n",
      "Epoch 79/150\n",
      "30/30 [==============================] - 1s 28ms/step - loss: 0.3035 - acc: 0.8798 - val_loss: 0.3622 - val_acc: 0.8439\n",
      "Epoch 80/150\n",
      "30/30 [==============================] - 1s 36ms/step - loss: 0.3758 - acc: 0.8251 - val_loss: 0.3214 - val_acc: 0.8698\n",
      "Epoch 81/150\n",
      "30/30 [==============================] - 1s 38ms/step - loss: 0.3750 - acc: 0.8334 - val_loss: 0.2920 - val_acc: 0.8880\n",
      "Epoch 82/150\n",
      "30/30 [==============================] - 1s 33ms/step - loss: 0.3270 - acc: 0.8668 - val_loss: 0.3394 - val_acc: 0.8690\n",
      "Epoch 83/150\n",
      "30/30 [==============================] - 1s 26ms/step - loss: 0.2573 - acc: 0.8949 - val_loss: 0.2849 - val_acc: 0.8877\n",
      "Epoch 84/150\n",
      "30/30 [==============================] - 1s 34ms/step - loss: 0.2908 - acc: 0.8874 - val_loss: 0.2607 - val_acc: 0.8986\n",
      "Epoch 85/150\n",
      "30/30 [==============================] - 1s 39ms/step - loss: 0.2355 - acc: 0.8914 - val_loss: 0.2915 - val_acc: 0.8707\n",
      "Epoch 86/150\n",
      "30/30 [==============================] - 1s 42ms/step - loss: 0.2616 - acc: 0.8879 - val_loss: 0.3103 - val_acc: 0.8726\n",
      "Epoch 87/150\n",
      "30/30 [==============================] - 1s 35ms/step - loss: 0.2856 - acc: 0.8915 - val_loss: 0.2898 - val_acc: 0.8920\n",
      "Epoch 88/150\n",
      "30/30 [==============================] - 1s 44ms/step - loss: 0.3111 - acc: 0.8819 - val_loss: 0.3548 - val_acc: 0.8483\n",
      "Epoch 89/150\n",
      "30/30 [==============================] - 1s 41ms/step - loss: 0.3837 - acc: 0.8362 - val_loss: 0.3178 - val_acc: 0.8598\n",
      "Epoch 90/150\n",
      "30/30 [==============================] - 1s 42ms/step - loss: 0.2706 - acc: 0.8751 - val_loss: 0.3363 - val_acc: 0.8587\n",
      "Epoch 91/150\n",
      "30/30 [==============================] - 1s 40ms/step - loss: 0.2873 - acc: 0.8929 - val_loss: 0.3302 - val_acc: 0.8740\n",
      "Epoch 92/150\n",
      "30/30 [==============================] - 1s 38ms/step - loss: 0.3949 - acc: 0.8224 - val_loss: 0.3253 - val_acc: 0.8572\n",
      "Epoch 93/150\n",
      "30/30 [==============================] - 2s 55ms/step - loss: 0.2830 - acc: 0.8707 - val_loss: 0.2639 - val_acc: 0.8958\n",
      "Epoch 94/150\n",
      "30/30 [==============================] - 1s 44ms/step - loss: 0.3004 - acc: 0.8777 - val_loss: 0.2862 - val_acc: 0.8891\n",
      "Epoch 95/150\n",
      "30/30 [==============================] - 1s 36ms/step - loss: 0.3433 - acc: 0.8699 - val_loss: 0.3240 - val_acc: 0.8606\n",
      "Epoch 96/150\n",
      "30/30 [==============================] - 1s 28ms/step - loss: 0.3337 - acc: 0.8650 - val_loss: 0.3395 - val_acc: 0.8587\n",
      "Epoch 97/150\n",
      "30/30 [==============================] - 1s 33ms/step - loss: 0.2995 - acc: 0.8670 - val_loss: 0.3234 - val_acc: 0.8640\n",
      "Epoch 98/150\n",
      "30/30 [==============================] - 1s 32ms/step - loss: 0.3330 - acc: 0.8693 - val_loss: 0.3184 - val_acc: 0.8629\n",
      "Epoch 99/150\n",
      "30/30 [==============================] - 1s 28ms/step - loss: 0.3269 - acc: 0.8696 - val_loss: 0.2922 - val_acc: 0.8869\n",
      "Epoch 100/150\n",
      "30/30 [==============================] - 2s 50ms/step - loss: 0.2631 - acc: 0.9126 - val_loss: 0.3010 - val_acc: 0.8800\n",
      "Epoch 101/150\n",
      "30/30 [==============================] - 1s 33ms/step - loss: 0.2247 - acc: 0.9110 - val_loss: 0.3292 - val_acc: 0.8610\n",
      "Epoch 102/150\n",
      "30/30 [==============================] - 1s 30ms/step - loss: 0.3474 - acc: 0.8535 - val_loss: 0.2876 - val_acc: 0.8862\n",
      "Epoch 103/150\n",
      "30/30 [==============================] - 1s 29ms/step - loss: 0.2311 - acc: 0.9107 - val_loss: 0.2892 - val_acc: 0.8824\n",
      "Epoch 104/150\n",
      "30/30 [==============================] - 1s 37ms/step - loss: 0.3235 - acc: 0.8572 - val_loss: 0.3372 - val_acc: 0.8482\n",
      "Epoch 105/150\n",
      "30/30 [==============================] - 1s 46ms/step - loss: 0.2337 - acc: 0.9175 - val_loss: 0.3331 - val_acc: 0.8510\n",
      "Epoch 106/150\n",
      "30/30 [==============================] - 1s 49ms/step - loss: 0.2649 - acc: 0.9006 - val_loss: 0.3708 - val_acc: 0.8571\n",
      "Epoch 107/150\n",
      "30/30 [==============================] - 1s 40ms/step - loss: 0.3684 - acc: 0.8309 - val_loss: 0.3162 - val_acc: 0.8681\n",
      "Epoch 108/150\n",
      "30/30 [==============================] - 1s 38ms/step - loss: 0.2924 - acc: 0.8789 - val_loss: 0.2834 - val_acc: 0.8840\n",
      "Epoch 109/150\n",
      "30/30 [==============================] - 1s 43ms/step - loss: 0.2893 - acc: 0.8863 - val_loss: 0.2887 - val_acc: 0.8770\n",
      "Epoch 110/150\n",
      "30/30 [==============================] - 1s 39ms/step - loss: 0.2895 - acc: 0.8744 - val_loss: 0.2874 - val_acc: 0.8974\n",
      "Epoch 111/150\n",
      "30/30 [==============================] - 1s 45ms/step - loss: 0.3368 - acc: 0.8677 - val_loss: 0.2541 - val_acc: 0.9069\n",
      "Epoch 112/150\n",
      "30/30 [==============================] - 1s 34ms/step - loss: 0.3733 - acc: 0.8477 - val_loss: 0.2654 - val_acc: 0.8947\n",
      "Epoch 113/150\n",
      "30/30 [==============================] - 1s 27ms/step - loss: 0.3907 - acc: 0.8371 - val_loss: 0.3140 - val_acc: 0.8669\n",
      "Epoch 114/150\n",
      "30/30 [==============================] - 1s 31ms/step - loss: 0.3050 - acc: 0.8469 - val_loss: 0.2910 - val_acc: 0.8766\n",
      "Epoch 115/150\n",
      "30/30 [==============================] - 1s 33ms/step - loss: 0.2328 - acc: 0.9236 - val_loss: 0.3276 - val_acc: 0.8638\n",
      "Epoch 116/150\n",
      "30/30 [==============================] - 1s 35ms/step - loss: 0.3347 - acc: 0.8592 - val_loss: 0.2785 - val_acc: 0.8928\n",
      "Epoch 117/150\n",
      "30/30 [==============================] - 1s 27ms/step - loss: 0.2529 - acc: 0.9104 - val_loss: 0.2983 - val_acc: 0.8762\n",
      "Epoch 118/150\n",
      "30/30 [==============================] - 1s 28ms/step - loss: 0.2852 - acc: 0.9005 - val_loss: 0.3128 - val_acc: 0.8675\n",
      "Epoch 119/150\n",
      "30/30 [==============================] - 1s 41ms/step - loss: 0.3109 - acc: 0.8719 - val_loss: 0.2921 - val_acc: 0.8881\n",
      "Epoch 120/150\n",
      "30/30 [==============================] - 1s 36ms/step - loss: 0.2597 - acc: 0.9067 - val_loss: 0.3024 - val_acc: 0.8836\n",
      "Epoch 121/150\n",
      "30/30 [==============================] - 1s 36ms/step - loss: 0.2664 - acc: 0.8900 - val_loss: 0.2966 - val_acc: 0.8713\n",
      "Epoch 122/150\n",
      "30/30 [==============================] - 1s 38ms/step - loss: 0.2347 - acc: 0.9136 - val_loss: 0.3085 - val_acc: 0.8779\n",
      "Epoch 123/150\n"
     ]
    },
    {
     "name": "stdout",
     "output_type": "stream",
     "text": [
      "30/30 [==============================] - 1s 37ms/step - loss: 0.2389 - acc: 0.9059 - val_loss: 0.3212 - val_acc: 0.8724\n",
      "Epoch 124/150\n",
      "30/30 [==============================] - 1s 30ms/step - loss: 0.2857 - acc: 0.8818 - val_loss: 0.3270 - val_acc: 0.8681\n",
      "Epoch 125/150\n",
      "30/30 [==============================] - 1s 33ms/step - loss: 0.3111 - acc: 0.8702 - val_loss: 0.2870 - val_acc: 0.8872\n",
      "Epoch 126/150\n",
      "30/30 [==============================] - 1s 29ms/step - loss: 0.3177 - acc: 0.8844 - val_loss: 0.3031 - val_acc: 0.8793\n",
      "Epoch 127/150\n",
      "30/30 [==============================] - 1s 33ms/step - loss: 0.3528 - acc: 0.8747 - val_loss: 0.2893 - val_acc: 0.8881\n",
      "Epoch 128/150\n",
      "30/30 [==============================] - 1s 37ms/step - loss: 0.2990 - acc: 0.8857 - val_loss: 0.2721 - val_acc: 0.8914\n",
      "Epoch 129/150\n",
      "30/30 [==============================] - 1s 38ms/step - loss: 0.3116 - acc: 0.8884 - val_loss: 0.3357 - val_acc: 0.8651\n",
      "Epoch 130/150\n",
      "30/30 [==============================] - 1s 37ms/step - loss: 0.2653 - acc: 0.9074 - val_loss: 0.3398 - val_acc: 0.8528\n",
      "Epoch 131/150\n",
      "30/30 [==============================] - 1s 40ms/step - loss: 0.3250 - acc: 0.8640 - val_loss: 0.3566 - val_acc: 0.8439\n",
      "Epoch 132/150\n",
      "30/30 [==============================] - 1s 31ms/step - loss: 0.2636 - acc: 0.8971 - val_loss: 0.2800 - val_acc: 0.8910\n",
      "Epoch 133/150\n",
      "30/30 [==============================] - 1s 46ms/step - loss: 0.2461 - acc: 0.9047 - val_loss: 0.2680 - val_acc: 0.8962\n",
      "Epoch 134/150\n",
      "30/30 [==============================] - 1s 38ms/step - loss: 0.2926 - acc: 0.8765 - val_loss: 0.3426 - val_acc: 0.8591\n",
      "Epoch 135/150\n",
      "30/30 [==============================] - 1s 33ms/step - loss: 0.4048 - acc: 0.8330 - val_loss: 0.3198 - val_acc: 0.8666\n",
      "Epoch 136/150\n",
      "30/30 [==============================] - 1s 29ms/step - loss: 0.3176 - acc: 0.8700 - val_loss: 0.3112 - val_acc: 0.8756\n",
      "Epoch 137/150\n",
      "30/30 [==============================] - 1s 35ms/step - loss: 0.2824 - acc: 0.8916 - val_loss: 0.3362 - val_acc: 0.8654\n",
      "Epoch 138/150\n",
      "30/30 [==============================] - 1s 37ms/step - loss: 0.3008 - acc: 0.8748 - val_loss: 0.3218 - val_acc: 0.8657\n",
      "Epoch 139/150\n",
      "30/30 [==============================] - 1s 28ms/step - loss: 0.3214 - acc: 0.8687 - val_loss: 0.2728 - val_acc: 0.8984\n",
      "Epoch 140/150\n",
      "30/30 [==============================] - 1s 35ms/step - loss: 0.2898 - acc: 0.8795 - val_loss: 0.3095 - val_acc: 0.8755\n",
      "Epoch 141/150\n",
      "30/30 [==============================] - 1s 31ms/step - loss: 0.3623 - acc: 0.8360 - val_loss: 0.3100 - val_acc: 0.8738\n",
      "Epoch 142/150\n",
      "30/30 [==============================] - 1s 30ms/step - loss: 0.2913 - acc: 0.8787 - val_loss: 0.2658 - val_acc: 0.8939\n",
      "Epoch 143/150\n",
      "30/30 [==============================] - 1s 38ms/step - loss: 0.3851 - acc: 0.8373 - val_loss: 0.2879 - val_acc: 0.8896\n",
      "Epoch 144/150\n",
      "30/30 [==============================] - 1s 36ms/step - loss: 0.3223 - acc: 0.8780 - val_loss: 0.2871 - val_acc: 0.8852\n",
      "Epoch 145/150\n",
      "30/30 [==============================] - 1s 33ms/step - loss: 0.2678 - acc: 0.8903 - val_loss: 0.2718 - val_acc: 0.8982\n",
      "Epoch 146/150\n",
      "30/30 [==============================] - 1s 39ms/step - loss: 0.3082 - acc: 0.8574 - val_loss: 0.3078 - val_acc: 0.8760\n",
      "Epoch 147/150\n",
      "30/30 [==============================] - 1s 37ms/step - loss: 0.3336 - acc: 0.8594 - val_loss: 0.3375 - val_acc: 0.8652\n",
      "Epoch 148/150\n",
      "30/30 [==============================] - 1s 34ms/step - loss: 0.3230 - acc: 0.8649 - val_loss: 0.3068 - val_acc: 0.8815\n",
      "Epoch 149/150\n",
      "30/30 [==============================] - 1s 34ms/step - loss: 0.2925 - acc: 0.8663 - val_loss: 0.3081 - val_acc: 0.8780\n",
      "Epoch 150/150\n",
      "30/30 [==============================] - 1s 40ms/step - loss: 0.3688 - acc: 0.8410 - val_loss: 0.3239 - val_acc: 0.8599\n"
     ]
    },
    {
     "data": {
      "text/plain": [
       "<keras.callbacks.History at 0x26a07e7fe48>"
      ]
     },
     "execution_count": 300,
     "metadata": {},
     "output_type": "execute_result"
    }
   ],
   "source": [
    "# batch_size = 100\n",
    "# timesteps = timesteps_padding(auto_df[\"vectors\"].values)\n",
    "# print(\"Timesteps:\", timesteps)\n",
    "# print(\"Batch size:\", batch_size)\n",
    "hidden_size1 = 80\n",
    "hidden_size2 = 32\n",
    "\n",
    "model = Sequential()\n",
    "model.add(LSTM(hidden_size1, return_sequences=True, input_shape=(None, 128)))\n",
    "# model.add(LSTM(hidden_size2, return_sequences=False))\n",
    "model.add(Dense(5, activation=\"softmax\"))\n",
    "# model.add(Dense(num_classes, activation='softmax'))\n",
    "\n",
    "model.compile(loss='mean_absolute_error',\n",
    "              optimizer='adagrad', metrics=[\"accuracy\"])\n",
    "\n",
    "model.fit_generator(rnd_labeled_data_generator(X_train, y_train), \n",
    "                    validation_data=rnd_labeled_data_generator(X_test, y_test), \n",
    "                    steps_per_epoch=30, epochs=150, verbose=1, validation_steps=100)"
   ]
  },
  {
   "cell_type": "code",
   "execution_count": 220,
   "metadata": {
    "collapsed": true
   },
   "outputs": [],
   "source": [
    "def predict(X, model):\n",
    "    predictions = []\n",
    "    for i, sample in enumerate(X):\n",
    "        clear_output(True)\n",
    "        display(\"Retrieving {}/{}\".format(i + 1, X.shape[0]))\n",
    "        predictions.append(model.predict(np.reshape(sample, [1, *sample.shape]), steps=1).reshape(-1, 5))\n",
    "#     predictions = np.array(predictions)\n",
    "#     predictions = np.reshape(predictions, (predictions.shape[0]))\n",
    "    return predictions\n",
    "    "
   ]
  },
  {
   "cell_type": "markdown",
   "metadata": {},
   "source": [
    "model.predict() автоматически пытается склеить последовательности разной длины в один 2D-массив и ломается. Поэтому приходится ему тоже передавать входы по одному."
   ]
  },
  {
   "cell_type": "code",
   "execution_count": 276,
   "metadata": {
    "collapsed": true
   },
   "outputs": [],
   "source": [
    "def result_to_one_hot(prediction):\n",
    "    # Усреднение ответов для каждого слова внутри текста, потом выбор максимума\n",
    "#     max_i = np.argmax(np.mean(prediction, axis=0).reshape(-1))\n",
    "#     res = np.zeros(5)\n",
    "#     res[max_i] = 1\n",
    "#     return res.astype(int)\n",
    "    # Выбор оценки исходя из самого значимого слова\n",
    "#     max_i = np.argmax(np.max(prediction, axis=0))\n",
    "#     res = np.zeros(5)\n",
    "#     res[max_i] = 1\n",
    "#     return res.astype(int)\n",
    "    # Выбор по количеству максимальных\n",
    "    # значений среди слов в пределах рубрики\n",
    "    max_i = np.argmax(np.argmax(prediction, axis=0))\n",
    "    res = np.zeros(5)\n",
    "    res[max_i] = 1\n",
    "    return res.astype(int)\n",
    "\n",
    "\n",
    "def decode_one_hot(oh_matrix):\n",
    "    return np.where(oh_matrix == 1)[1] + 1"
   ]
  },
  {
   "cell_type": "code",
   "execution_count": 302,
   "metadata": {},
   "outputs": [
    {
     "data": {
      "text/plain": [
       "'Retrieving 6142/6142'"
      ]
     },
     "metadata": {},
     "output_type": "display_data"
    }
   ],
   "source": [
    "res = predict(X_test, model)"
   ]
  },
  {
   "cell_type": "code",
   "execution_count": 303,
   "metadata": {
    "collapsed": true
   },
   "outputs": [],
   "source": [
    "oh_res = np.array(list(map(result_to_one_hot, res)))"
   ]
  },
  {
   "cell_type": "code",
   "execution_count": 304,
   "metadata": {},
   "outputs": [
    {
     "name": "stdout",
     "output_type": "stream",
     "text": [
      "Balanced accuracy:\t\t0.2901629895562134\n",
      "Balanced and adjusted accuracy:\t0.11270373694526672\n",
      "Unbalanced accuracy:\t\t0.4317811787691306\n"
     ]
    }
   ],
   "source": [
    "print(\"Balanced accuracy:\\t\\t{}\".format(balanced_accuracy_score(decode_one_hot(y_test), \n",
    "                                                                         decode_one_hot(oh_res), adjusted=False)))\n",
    "print(\"Balanced and adjusted accuracy:\\t{}\".format(balanced_accuracy_score(decode_one_hot(y_test), \n",
    "                                                                         decode_one_hot(oh_res), adjusted=True)))\n",
    "print(\"Unbalanced accuracy:\\t\\t{}\".format(accuracy_score(decode_one_hot(y_test), \n",
    "                                                         decode_one_hot(oh_res))))"
   ]
  },
  {
   "cell_type": "code",
   "execution_count": 298,
   "metadata": {},
   "outputs": [
    {
     "data": {
      "text/plain": [
       "array([5, 5, 5, 5, 5, 5, 4, 4, 4, 5], dtype=int64)"
      ]
     },
     "execution_count": 298,
     "metadata": {},
     "output_type": "execute_result"
    }
   ],
   "source": [
    "decode_one_hot(y_test[:10])"
   ]
  },
  {
   "cell_type": "code",
   "execution_count": 299,
   "metadata": {},
   "outputs": [
    {
     "data": {
      "text/plain": [
       "array([5, 5, 4, 2, 3, 5, 5, 1, 5, 5], dtype=int64)"
      ]
     },
     "execution_count": 299,
     "metadata": {},
     "output_type": "execute_result"
    }
   ],
   "source": [
    "decode_one_hot(oh_res[:10])"
   ]
  },
  {
   "cell_type": "code",
   "execution_count": 294,
   "metadata": {},
   "outputs": [
    {
     "data": {
      "text/plain": [
       "array([[0, 0, 0, 0, 1],\n",
       "       [0, 0, 0, 0, 1],\n",
       "       [0, 0, 0, 1, 0],\n",
       "       [0, 1, 0, 0, 0],\n",
       "       [0, 0, 1, 0, 0],\n",
       "       [0, 0, 0, 0, 1],\n",
       "       [0, 0, 0, 0, 1],\n",
       "       [1, 0, 0, 0, 0],\n",
       "       [0, 0, 0, 0, 1],\n",
       "       [0, 0, 0, 0, 1]])"
      ]
     },
     "execution_count": 294,
     "metadata": {},
     "output_type": "execute_result"
    }
   ],
   "source": [
    "oh_res[:10]"
   ]
  },
  {
   "cell_type": "markdown",
   "metadata": {},
   "source": [
    "При классификации по 5 рубрикам качество остается низким при различных конфигурациях модели.\n",
    "Попробуем перейти к бинарной классификации."
   ]
  },
  {
   "cell_type": "code",
   "execution_count": 9,
   "metadata": {},
   "outputs": [
    {
     "data": {
      "text/html": [
       "<div>\n",
       "<style scoped>\n",
       "    .dataframe tbody tr th:only-of-type {\n",
       "        vertical-align: middle;\n",
       "    }\n",
       "\n",
       "    .dataframe tbody tr th {\n",
       "        vertical-align: top;\n",
       "    }\n",
       "\n",
       "    .dataframe thead th {\n",
       "        text-align: right;\n",
       "    }\n",
       "</style>\n",
       "<table border=\"1\" class=\"dataframe\">\n",
       "  <thead>\n",
       "    <tr style=\"text-align: right;\">\n",
       "      <th></th>\n",
       "      <th>overall</th>\n",
       "      <th>vectors</th>\n",
       "      <th>target_bin</th>\n",
       "    </tr>\n",
       "  </thead>\n",
       "  <tbody>\n",
       "    <tr>\n",
       "      <th>0</th>\n",
       "      <td>5.0</td>\n",
       "      <td>[[-0.67167366, 1.4340448, 0.70772099, 0.267104...</td>\n",
       "      <td>1</td>\n",
       "    </tr>\n",
       "    <tr>\n",
       "      <th>1</th>\n",
       "      <td>4.0</td>\n",
       "      <td>[[-3.4646065, 0.90924335, 0.051792312, -0.0250...</td>\n",
       "      <td>1</td>\n",
       "    </tr>\n",
       "    <tr>\n",
       "      <th>2</th>\n",
       "      <td>5.0</td>\n",
       "      <td>[[-0.34402627, -1.2019368, 0.49981338, -1.2384...</td>\n",
       "      <td>1</td>\n",
       "    </tr>\n",
       "    <tr>\n",
       "      <th>3</th>\n",
       "      <td>5.0</td>\n",
       "      <td>[[-1.187706, 0.5451839, 1.5461149, -0.60059845...</td>\n",
       "      <td>1</td>\n",
       "    </tr>\n",
       "    <tr>\n",
       "      <th>4</th>\n",
       "      <td>5.0</td>\n",
       "      <td>[[-0.78727818, 1.2093724, -2.3347111, -2.42030...</td>\n",
       "      <td>1</td>\n",
       "    </tr>\n",
       "  </tbody>\n",
       "</table>\n",
       "</div>"
      ],
      "text/plain": [
       "   overall                                            vectors  target_bin\n",
       "0      5.0  [[-0.67167366, 1.4340448, 0.70772099, 0.267104...           1\n",
       "1      4.0  [[-3.4646065, 0.90924335, 0.051792312, -0.0250...           1\n",
       "2      5.0  [[-0.34402627, -1.2019368, 0.49981338, -1.2384...           1\n",
       "3      5.0  [[-1.187706, 0.5451839, 1.5461149, -0.60059845...           1\n",
       "4      5.0  [[-0.78727818, 1.2093724, -2.3347111, -2.42030...           1"
      ]
     },
     "execution_count": 9,
     "metadata": {},
     "output_type": "execute_result"
    }
   ],
   "source": [
    "auto_df[\"target_bin\"] = (auto_df[\"overall\"] > 3).astype(int)\n",
    "auto_df.head()"
   ]
  },
  {
   "cell_type": "markdown",
   "metadata": {},
   "source": [
    "Классы очень несбалансированны:"
   ]
  },
  {
   "cell_type": "code",
   "execution_count": 10,
   "metadata": {},
   "outputs": [
    {
     "data": {
      "text/html": [
       "<div>\n",
       "<style scoped>\n",
       "    .dataframe tbody tr th:only-of-type {\n",
       "        vertical-align: middle;\n",
       "    }\n",
       "\n",
       "    .dataframe tbody tr th {\n",
       "        vertical-align: top;\n",
       "    }\n",
       "\n",
       "    .dataframe thead th {\n",
       "        text-align: right;\n",
       "    }\n",
       "</style>\n",
       "<table border=\"1\" class=\"dataframe\">\n",
       "  <thead>\n",
       "    <tr style=\"text-align: right;\">\n",
       "      <th></th>\n",
       "      <th>overall</th>\n",
       "      <th>vectors</th>\n",
       "    </tr>\n",
       "    <tr>\n",
       "      <th>target_bin</th>\n",
       "      <th></th>\n",
       "      <th></th>\n",
       "    </tr>\n",
       "  </thead>\n",
       "  <tbody>\n",
       "    <tr>\n",
       "      <th>0</th>\n",
       "      <td>2578</td>\n",
       "      <td>2578</td>\n",
       "    </tr>\n",
       "    <tr>\n",
       "      <th>1</th>\n",
       "      <td>17895</td>\n",
       "      <td>17895</td>\n",
       "    </tr>\n",
       "  </tbody>\n",
       "</table>\n",
       "</div>"
      ],
      "text/plain": [
       "            overall  vectors\n",
       "target_bin                  \n",
       "0              2578     2578\n",
       "1             17895    17895"
      ]
     },
     "execution_count": 10,
     "metadata": {},
     "output_type": "execute_result"
    }
   ],
   "source": [
    "auto_df.groupby(\"target_bin\").count()"
   ]
  },
  {
   "cell_type": "code",
   "execution_count": 11,
   "metadata": {
    "collapsed": true
   },
   "outputs": [],
   "source": [
    "ind_to_drop = np.random.choice(auto_df[auto_df[\"target_bin\"] == 1].index, \n",
    "                               size=(auto_df.shape[0] - 2*auto_df[auto_df[\"target_bin\"] == 0].shape[0]), \n",
    "                               replace=False)"
   ]
  },
  {
   "cell_type": "code",
   "execution_count": 12,
   "metadata": {},
   "outputs": [
    {
     "data": {
      "text/plain": [
       "True"
      ]
     },
     "execution_count": 12,
     "metadata": {},
     "output_type": "execute_result"
    }
   ],
   "source": [
    "all(auto_df.loc[ind_to_drop, \"target_bin\"])"
   ]
  },
  {
   "cell_type": "code",
   "execution_count": 13,
   "metadata": {},
   "outputs": [
    {
     "data": {
      "text/plain": [
       "((15317,), (20473, 3))"
      ]
     },
     "execution_count": 13,
     "metadata": {},
     "output_type": "execute_result"
    }
   ],
   "source": [
    "ind_to_drop.shape, auto_df.shape"
   ]
  },
  {
   "cell_type": "code",
   "execution_count": 14,
   "metadata": {},
   "outputs": [
    {
     "data": {
      "text/plain": [
       "(20473,)"
      ]
     },
     "execution_count": 14,
     "metadata": {},
     "output_type": "execute_result"
    }
   ],
   "source": [
    "np.unique(auto_df.index).shape "
   ]
  },
  {
   "cell_type": "code",
   "execution_count": 15,
   "metadata": {},
   "outputs": [
    {
     "data": {
      "text/html": [
       "<div>\n",
       "<style scoped>\n",
       "    .dataframe tbody tr th:only-of-type {\n",
       "        vertical-align: middle;\n",
       "    }\n",
       "\n",
       "    .dataframe tbody tr th {\n",
       "        vertical-align: top;\n",
       "    }\n",
       "\n",
       "    .dataframe thead th {\n",
       "        text-align: right;\n",
       "    }\n",
       "</style>\n",
       "<table border=\"1\" class=\"dataframe\">\n",
       "  <thead>\n",
       "    <tr style=\"text-align: right;\">\n",
       "      <th></th>\n",
       "      <th>overall</th>\n",
       "      <th>vectors</th>\n",
       "    </tr>\n",
       "    <tr>\n",
       "      <th>target_bin</th>\n",
       "      <th></th>\n",
       "      <th></th>\n",
       "    </tr>\n",
       "  </thead>\n",
       "  <tbody>\n",
       "    <tr>\n",
       "      <th>0</th>\n",
       "      <td>2578</td>\n",
       "      <td>2578</td>\n",
       "    </tr>\n",
       "    <tr>\n",
       "      <th>1</th>\n",
       "      <td>2578</td>\n",
       "      <td>2578</td>\n",
       "    </tr>\n",
       "  </tbody>\n",
       "</table>\n",
       "</div>"
      ],
      "text/plain": [
       "            overall  vectors\n",
       "target_bin                  \n",
       "0              2578     2578\n",
       "1              2578     2578"
      ]
     },
     "execution_count": 15,
     "metadata": {},
     "output_type": "execute_result"
    }
   ],
   "source": [
    "balanced_df = auto_df.drop(ind_to_drop, axis=0)\n",
    "balanced_df.groupby(\"target_bin\").count()"
   ]
  },
  {
   "cell_type": "code",
   "execution_count": 16,
   "metadata": {
    "collapsed": true
   },
   "outputs": [],
   "source": [
    "X_train, X_test, y_train, y_test = train_test_split(balanced_df[\"vectors\"].values, \n",
    "                                                    balanced_df[\"target_bin\"].values, test_size=0.3)"
   ]
  },
  {
   "cell_type": "code",
   "execution_count": 17,
   "metadata": {
    "collapsed": true
   },
   "outputs": [],
   "source": [
    "def predict_bin(X, model):\n",
    "    predictions = []\n",
    "    for i, sample in enumerate(X):\n",
    "        clear_output(True)\n",
    "        display(\"Retrieving {}/{}\".format(i + 1, X.shape[0]))\n",
    "        predictions.append(model.predict(np.reshape(sample, [1, *sample.shape]), steps=1).reshape(-1))\n",
    "    return predictions\n",
    "\n",
    "def res_to_bin(y):\n",
    "    return np.array(list(map(lambda a: np.round(np.mean(a)).astype(int), y)))"
   ]
  },
  {
   "cell_type": "code",
   "execution_count": 18,
   "metadata": {},
   "outputs": [
    {
     "name": "stdout",
     "output_type": "stream",
     "text": [
      "Epoch 1/2\n",
      "1500/1500 [==============================] - 33s 22ms/step - loss: 0.6237 - acc: 0.6582 - val_loss: 0.5873 - val_acc: 0.6843\n",
      "Epoch 2/2\n",
      "1500/1500 [==============================] - 33s 22ms/step - loss: 0.5760 - acc: 0.7072 - val_loss: 0.5295 - val_acc: 0.7289\n"
     ]
    },
    {
     "data": {
      "text/plain": [
       "<keras.callbacks.History at 0x1c2ea70d8d0>"
      ]
     },
     "execution_count": 18,
     "metadata": {},
     "output_type": "execute_result"
    }
   ],
   "source": [
    "hidden_size1 = 32\n",
    "hidden_size2 = 150\n",
    "\n",
    "model = Sequential()\n",
    "model.add(LSTM(hidden_size1, return_sequences=True, input_shape=(None, 128)))\n",
    "# model.add(LSTM(hidden_size2, return_sequences=True))\n",
    "# model.add(Dense(hidden_size2, activation=\"hard_sigmoid\"))\n",
    "model.add(Dense(1, activation='hard_sigmoid'))\n",
    "\n",
    "model.compile(loss='binary_crossentropy',\n",
    "              optimizer='adagrad', metrics=[\"accuracy\"])\n",
    "\n",
    "model.fit_generator(rnd_labeled_data_generator(X_train, y_train), \n",
    "                    validation_data=rnd_labeled_data_generator(X_test, y_test), \n",
    "                    steps_per_epoch=1500, epochs=2, verbose=1, validation_steps=100)"
   ]
  },
  {
   "cell_type": "code",
   "execution_count": 21,
   "metadata": {},
   "outputs": [
    {
     "data": {
      "text/plain": [
       "'Retrieving 1547/1547'"
      ]
     },
     "metadata": {},
     "output_type": "display_data"
    }
   ],
   "source": [
    "res = predict_bin(X_test, model)\n",
    "bin_res = res_to_bin(res)"
   ]
  },
  {
   "cell_type": "code",
   "execution_count": 22,
   "metadata": {},
   "outputs": [
    {
     "data": {
      "text/plain": [
       "array([744, 803], dtype=int64)"
      ]
     },
     "execution_count": 22,
     "metadata": {},
     "output_type": "execute_result"
    }
   ],
   "source": [
    "np.bincount(bin_res)"
   ]
  },
  {
   "cell_type": "code",
   "execution_count": 23,
   "metadata": {},
   "outputs": [
    {
     "name": "stdout",
     "output_type": "stream",
     "text": [
      "Balanced accuracy:\t\t0.7475395380589374\n",
      "Balanced and adjusted accuracy:\t0.4950790761178747\n",
      "Unbalanced accuracy:\t\t0.7478991596638656\n"
     ]
    }
   ],
   "source": [
    "print(\"Balanced accuracy:\\t\\t{}\".format(balanced_accuracy_score(y_test, bin_res, adjusted=False)))\n",
    "print(\"Balanced and adjusted accuracy:\\t{}\".format(balanced_accuracy_score(y_test, bin_res, adjusted=True)))\n",
    "print(\"Unbalanced accuracy:\\t\\t{}\".format(accuracy_score(y_test, bin_res,)))"
   ]
  },
  {
   "cell_type": "markdown",
   "metadata": {},
   "source": [
    "Кернель умирает при сохранении модели. Файл экспортирован в .py"
   ]
  },
  {
   "cell_type": "code",
   "execution_count": null,
   "metadata": {
    "collapsed": true
   },
   "outputs": [],
   "source": [
    "model.save(\"classifier.hdf5\")"
   ]
  }
 ],
 "metadata": {
  "kernelspec": {
   "display_name": "Python 3",
   "language": "python",
   "name": "python3"
  },
  "language_info": {
   "codemirror_mode": {
    "name": "ipython",
    "version": 3
   },
   "file_extension": ".py",
   "mimetype": "text/x-python",
   "name": "python",
   "nbconvert_exporter": "python",
   "pygments_lexer": "ipython3",
   "version": "3.6.7"
  }
 },
 "nbformat": 4,
 "nbformat_minor": 2
}
