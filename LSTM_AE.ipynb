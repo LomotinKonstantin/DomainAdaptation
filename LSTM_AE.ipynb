{
 "cells": [
  {
   "cell_type": "code",
   "execution_count": 30,
   "metadata": {},
   "outputs": [],
   "source": [
    "import tensorflow as tf\n",
    "import pandas as pd\n",
    "import numpy as np\n",
    "from IPython.display import display, clear_output\n",
    "from sklearn.model_selection import train_test_split\n",
    "from sklearn.metrics import balanced_accuracy_score, accuracy_score\n",
    "from utils import load_vectors, ae_data_generator, rnd_labeled_data_generator"
   ]
  },
  {
   "cell_type": "markdown",
   "metadata": {},
   "source": [
    "Загружаем векторы"
   ]
  },
  {
   "cell_type": "code",
   "execution_count": 2,
   "metadata": {
    "collapsed": true
   },
   "outputs": [],
   "source": [
    "vectors = {\n",
    "    \"mus\": \"../data/mus_vectors.csv\",\n",
    "    \"auto\": \"../data/auto_vectors.csv\"\n",
    "}"
   ]
  },
  {
   "cell_type": "markdown",
   "metadata": {},
   "source": [
    "Отзывы об автомобилях примем за исходный домен, а отзывы о музыкальных инструментах - за целевой "
   ]
  },
  {
   "cell_type": "code",
   "execution_count": 3,
   "metadata": {},
   "outputs": [],
   "source": [
    "mus_df = load_vectors(vectors[\"mus\"], manually=False)"
   ]
  },
  {
   "cell_type": "code",
   "execution_count": 4,
   "metadata": {},
   "outputs": [
    {
     "data": {
      "text/plain": [
       "'Reading line 20473'"
      ]
     },
     "metadata": {},
     "output_type": "display_data"
    }
   ],
   "source": [
    "# Кернель умирает при загрузке большого файла,\n",
    "# Поэтому грузим вручную\n",
    "auto_df = load_vectors(vectors[\"auto\"], manually=True)"
   ]
  },
  {
   "cell_type": "markdown",
   "metadata": {},
   "source": [
    "Преобразуем векторы из строк в списки. По какой-то причине Series.apply наглухо стопорит кернель"
   ]
  },
  {
   "cell_type": "code",
   "execution_count": 5,
   "metadata": {},
   "outputs": [
    {
     "data": {
      "text/plain": [
       "'10261 / 10261'"
      ]
     },
     "metadata": {},
     "output_type": "display_data"
    }
   ],
   "source": [
    "for i in range(mus_df.shape[0]):\n",
    "    clear_output(True)\n",
    "    display(\"{} / {}\".format(i+1, mus_df.shape[0]))\n",
    "    mus_df.at[i, \"vectors\"] = eval(mus_df.loc[i, \"vectors\"])"
   ]
  },
  {
   "cell_type": "markdown",
   "metadata": {},
   "source": [
    "Переходим к бинарной классификации и балансируем датасеты"
   ]
  },
  {
   "cell_type": "code",
   "execution_count": 6,
   "metadata": {
    "collapsed": true
   },
   "outputs": [],
   "source": [
    "def balanced(df):\n",
    "    ind_to_drop = np.random.choice(df[df[\"target_bin\"] == 1].index, \n",
    "                                   size=(df.shape[0] - 2*df[df[\"target_bin\"] == 0].shape[0]), \n",
    "                                   replace=False)\n",
    "    return df.drop(ind_to_drop, axis=0)"
   ]
  },
  {
   "cell_type": "code",
   "execution_count": 7,
   "metadata": {},
   "outputs": [
    {
     "data": {
      "text/html": [
       "<div>\n",
       "<style scoped>\n",
       "    .dataframe tbody tr th:only-of-type {\n",
       "        vertical-align: middle;\n",
       "    }\n",
       "\n",
       "    .dataframe tbody tr th {\n",
       "        vertical-align: top;\n",
       "    }\n",
       "\n",
       "    .dataframe thead th {\n",
       "        text-align: right;\n",
       "    }\n",
       "</style>\n",
       "<table border=\"1\" class=\"dataframe\">\n",
       "  <thead>\n",
       "    <tr style=\"text-align: right;\">\n",
       "      <th></th>\n",
       "      <th>overall</th>\n",
       "      <th>vectors</th>\n",
       "      <th>target_bin</th>\n",
       "    </tr>\n",
       "  </thead>\n",
       "  <tbody>\n",
       "    <tr>\n",
       "      <th>0</th>\n",
       "      <td>5.0</td>\n",
       "      <td>[[0.26492563, -0.072336048, 1.0834889, -0.1779...</td>\n",
       "      <td>1</td>\n",
       "    </tr>\n",
       "    <tr>\n",
       "      <th>1</th>\n",
       "      <td>5.0</td>\n",
       "      <td>[[1.9994644, 0.73515296, -0.78534812, -1.10929...</td>\n",
       "      <td>1</td>\n",
       "    </tr>\n",
       "    <tr>\n",
       "      <th>2</th>\n",
       "      <td>5.0</td>\n",
       "      <td>[[-0.37103215, 0.10426682, -1.7503167, -0.0827...</td>\n",
       "      <td>1</td>\n",
       "    </tr>\n",
       "    <tr>\n",
       "      <th>3</th>\n",
       "      <td>5.0</td>\n",
       "      <td>[[-2.6337843, 1.8761243, 0.19478494, -0.978528...</td>\n",
       "      <td>1</td>\n",
       "    </tr>\n",
       "    <tr>\n",
       "      <th>4</th>\n",
       "      <td>5.0</td>\n",
       "      <td>[[-1.039957, -1.9383856, 0.789069, -4.2109776,...</td>\n",
       "      <td>1</td>\n",
       "    </tr>\n",
       "  </tbody>\n",
       "</table>\n",
       "</div>"
      ],
      "text/plain": [
       "   overall                                            vectors  target_bin\n",
       "0      5.0  [[0.26492563, -0.072336048, 1.0834889, -0.1779...           1\n",
       "1      5.0  [[1.9994644, 0.73515296, -0.78534812, -1.10929...           1\n",
       "2      5.0  [[-0.37103215, 0.10426682, -1.7503167, -0.0827...           1\n",
       "3      5.0  [[-2.6337843, 1.8761243, 0.19478494, -0.978528...           1\n",
       "4      5.0  [[-1.039957, -1.9383856, 0.789069, -4.2109776,...           1"
      ]
     },
     "execution_count": 7,
     "metadata": {},
     "output_type": "execute_result"
    }
   ],
   "source": [
    "mus_df[\"target_bin\"] = (mus_df[\"overall\"] > 3).astype(int)\n",
    "mus_df.head()"
   ]
  },
  {
   "cell_type": "code",
   "execution_count": 8,
   "metadata": {},
   "outputs": [
    {
     "data": {
      "text/html": [
       "<div>\n",
       "<style scoped>\n",
       "    .dataframe tbody tr th:only-of-type {\n",
       "        vertical-align: middle;\n",
       "    }\n",
       "\n",
       "    .dataframe tbody tr th {\n",
       "        vertical-align: top;\n",
       "    }\n",
       "\n",
       "    .dataframe thead th {\n",
       "        text-align: right;\n",
       "    }\n",
       "</style>\n",
       "<table border=\"1\" class=\"dataframe\">\n",
       "  <thead>\n",
       "    <tr style=\"text-align: right;\">\n",
       "      <th></th>\n",
       "      <th>overall</th>\n",
       "      <th>vectors</th>\n",
       "    </tr>\n",
       "    <tr>\n",
       "      <th>target_bin</th>\n",
       "      <th></th>\n",
       "      <th></th>\n",
       "    </tr>\n",
       "  </thead>\n",
       "  <tbody>\n",
       "    <tr>\n",
       "      <th>0</th>\n",
       "      <td>1239</td>\n",
       "      <td>1239</td>\n",
       "    </tr>\n",
       "    <tr>\n",
       "      <th>1</th>\n",
       "      <td>9022</td>\n",
       "      <td>9022</td>\n",
       "    </tr>\n",
       "  </tbody>\n",
       "</table>\n",
       "</div>"
      ],
      "text/plain": [
       "            overall  vectors\n",
       "target_bin                  \n",
       "0              1239     1239\n",
       "1              9022     9022"
      ]
     },
     "execution_count": 8,
     "metadata": {},
     "output_type": "execute_result"
    }
   ],
   "source": [
    "mus_df.groupby(\"target_bin\").count()"
   ]
  },
  {
   "cell_type": "code",
   "execution_count": 9,
   "metadata": {},
   "outputs": [
    {
     "data": {
      "text/html": [
       "<div>\n",
       "<style scoped>\n",
       "    .dataframe tbody tr th:only-of-type {\n",
       "        vertical-align: middle;\n",
       "    }\n",
       "\n",
       "    .dataframe tbody tr th {\n",
       "        vertical-align: top;\n",
       "    }\n",
       "\n",
       "    .dataframe thead th {\n",
       "        text-align: right;\n",
       "    }\n",
       "</style>\n",
       "<table border=\"1\" class=\"dataframe\">\n",
       "  <thead>\n",
       "    <tr style=\"text-align: right;\">\n",
       "      <th></th>\n",
       "      <th>overall</th>\n",
       "      <th>vectors</th>\n",
       "    </tr>\n",
       "    <tr>\n",
       "      <th>target_bin</th>\n",
       "      <th></th>\n",
       "      <th></th>\n",
       "    </tr>\n",
       "  </thead>\n",
       "  <tbody>\n",
       "    <tr>\n",
       "      <th>0</th>\n",
       "      <td>1239</td>\n",
       "      <td>1239</td>\n",
       "    </tr>\n",
       "    <tr>\n",
       "      <th>1</th>\n",
       "      <td>1239</td>\n",
       "      <td>1239</td>\n",
       "    </tr>\n",
       "  </tbody>\n",
       "</table>\n",
       "</div>"
      ],
      "text/plain": [
       "            overall  vectors\n",
       "target_bin                  \n",
       "0              1239     1239\n",
       "1              1239     1239"
      ]
     },
     "execution_count": 9,
     "metadata": {},
     "output_type": "execute_result"
    }
   ],
   "source": [
    "balanced_mus_df = balanced(mus_df)\n",
    "balanced_mus_df.groupby(\"target_bin\").count()"
   ]
  },
  {
   "cell_type": "code",
   "execution_count": 10,
   "metadata": {
    "scrolled": true
   },
   "outputs": [
    {
     "data": {
      "text/html": [
       "<div>\n",
       "<style scoped>\n",
       "    .dataframe tbody tr th:only-of-type {\n",
       "        vertical-align: middle;\n",
       "    }\n",
       "\n",
       "    .dataframe tbody tr th {\n",
       "        vertical-align: top;\n",
       "    }\n",
       "\n",
       "    .dataframe thead th {\n",
       "        text-align: right;\n",
       "    }\n",
       "</style>\n",
       "<table border=\"1\" class=\"dataframe\">\n",
       "  <thead>\n",
       "    <tr style=\"text-align: right;\">\n",
       "      <th></th>\n",
       "      <th>overall</th>\n",
       "      <th>vectors</th>\n",
       "      <th>target_bin</th>\n",
       "    </tr>\n",
       "  </thead>\n",
       "  <tbody>\n",
       "    <tr>\n",
       "      <th>0</th>\n",
       "      <td>5.0</td>\n",
       "      <td>[[-0.67167366, 1.4340448, 0.70772099, 0.267104...</td>\n",
       "      <td>1</td>\n",
       "    </tr>\n",
       "    <tr>\n",
       "      <th>1</th>\n",
       "      <td>4.0</td>\n",
       "      <td>[[-3.4646065, 0.90924335, 0.051792312, -0.0250...</td>\n",
       "      <td>1</td>\n",
       "    </tr>\n",
       "    <tr>\n",
       "      <th>2</th>\n",
       "      <td>5.0</td>\n",
       "      <td>[[-0.34402627, -1.2019368, 0.49981338, -1.2384...</td>\n",
       "      <td>1</td>\n",
       "    </tr>\n",
       "    <tr>\n",
       "      <th>3</th>\n",
       "      <td>5.0</td>\n",
       "      <td>[[-1.187706, 0.5451839, 1.5461149, -0.60059845...</td>\n",
       "      <td>1</td>\n",
       "    </tr>\n",
       "    <tr>\n",
       "      <th>4</th>\n",
       "      <td>5.0</td>\n",
       "      <td>[[-0.78727818, 1.2093724, -2.3347111, -2.42030...</td>\n",
       "      <td>1</td>\n",
       "    </tr>\n",
       "  </tbody>\n",
       "</table>\n",
       "</div>"
      ],
      "text/plain": [
       "   overall                                            vectors  target_bin\n",
       "0      5.0  [[-0.67167366, 1.4340448, 0.70772099, 0.267104...           1\n",
       "1      4.0  [[-3.4646065, 0.90924335, 0.051792312, -0.0250...           1\n",
       "2      5.0  [[-0.34402627, -1.2019368, 0.49981338, -1.2384...           1\n",
       "3      5.0  [[-1.187706, 0.5451839, 1.5461149, -0.60059845...           1\n",
       "4      5.0  [[-0.78727818, 1.2093724, -2.3347111, -2.42030...           1"
      ]
     },
     "execution_count": 10,
     "metadata": {},
     "output_type": "execute_result"
    }
   ],
   "source": [
    "auto_df[\"target_bin\"] = (auto_df[\"overall\"] > 3).astype(int)\n",
    "auto_df.head()"
   ]
  },
  {
   "cell_type": "code",
   "execution_count": 11,
   "metadata": {},
   "outputs": [
    {
     "data": {
      "text/html": [
       "<div>\n",
       "<style scoped>\n",
       "    .dataframe tbody tr th:only-of-type {\n",
       "        vertical-align: middle;\n",
       "    }\n",
       "\n",
       "    .dataframe tbody tr th {\n",
       "        vertical-align: top;\n",
       "    }\n",
       "\n",
       "    .dataframe thead th {\n",
       "        text-align: right;\n",
       "    }\n",
       "</style>\n",
       "<table border=\"1\" class=\"dataframe\">\n",
       "  <thead>\n",
       "    <tr style=\"text-align: right;\">\n",
       "      <th></th>\n",
       "      <th>overall</th>\n",
       "      <th>vectors</th>\n",
       "    </tr>\n",
       "    <tr>\n",
       "      <th>target_bin</th>\n",
       "      <th></th>\n",
       "      <th></th>\n",
       "    </tr>\n",
       "  </thead>\n",
       "  <tbody>\n",
       "    <tr>\n",
       "      <th>0</th>\n",
       "      <td>2578</td>\n",
       "      <td>2578</td>\n",
       "    </tr>\n",
       "    <tr>\n",
       "      <th>1</th>\n",
       "      <td>2578</td>\n",
       "      <td>2578</td>\n",
       "    </tr>\n",
       "  </tbody>\n",
       "</table>\n",
       "</div>"
      ],
      "text/plain": [
       "            overall  vectors\n",
       "target_bin                  \n",
       "0              2578     2578\n",
       "1              2578     2578"
      ]
     },
     "execution_count": 11,
     "metadata": {},
     "output_type": "execute_result"
    }
   ],
   "source": [
    "balanced_auto_df = balanced(auto_df)\n",
    "balanced_auto_df.groupby(\"target_bin\").count()"
   ]
  },
  {
   "cell_type": "markdown",
   "metadata": {},
   "source": [
    "Обучаем LSTM-автоэнкодер на данных из двух доменов"
   ]
  },
  {
   "cell_type": "code",
   "execution_count": 12,
   "metadata": {
    "collapsed": true
   },
   "outputs": [],
   "source": [
    "X_train = pd.concat([auto_df[\"vectors\"], mus_df[\"vectors\"]]).values"
   ]
  },
  {
   "cell_type": "code",
   "execution_count": 13,
   "metadata": {},
   "outputs": [
    {
     "data": {
      "text/plain": [
       "(30734,)"
      ]
     },
     "execution_count": 13,
     "metadata": {},
     "output_type": "execute_result"
    }
   ],
   "source": [
    "X_train.shape"
   ]
  },
  {
   "cell_type": "code",
   "execution_count": 14,
   "metadata": {},
   "outputs": [
    {
     "data": {
      "text/plain": [
       "'30734 / 30734'"
      ]
     },
     "metadata": {},
     "output_type": "display_data"
    }
   ],
   "source": [
    "# Converting to ndarray\n",
    "for i in range(X_train.shape[0]):\n",
    "    clear_output(True)\n",
    "    display(\"{} / {}\".format(i+1, X_train.shape[0]))\n",
    "    X_train[i] = np.array([np.array(vec) for vec in X_train[i]])"
   ]
  },
  {
   "cell_type": "code",
   "execution_count": 15,
   "metadata": {
    "collapsed": true
   },
   "outputs": [],
   "source": [
    "np.random.shuffle(X_train)"
   ]
  },
  {
   "cell_type": "code",
   "execution_count": 16,
   "metadata": {
    "collapsed": true
   },
   "outputs": [],
   "source": [
    "train_percent = 0.7"
   ]
  },
  {
   "cell_type": "markdown",
   "metadata": {},
   "source": [
    "Используем pretraining.\n",
    "Из-за того, что размер последовательностей не фиксирован, а батч для обучения должен быть тензором, приходится обучать модель по одному сэмплу за раз. Zero-padding приводит к MemoryError даже на маленьком сбалансированном датасете."
   ]
  },
  {
   "cell_type": "code",
   "execution_count": 17,
   "metadata": {},
   "outputs": [
    {
     "name": "stderr",
     "output_type": "stream",
     "text": [
      "Using TensorFlow backend.\n"
     ]
    },
    {
     "name": "stdout",
     "output_type": "stream",
     "text": [
      "Epoch 1/10\n",
      "3000/3000 [==============================] - 106s 35ms/step - loss: 1.5664\n",
      "Epoch 2/10\n",
      "3000/3000 [==============================] - 105s 35ms/step - loss: 1.4181\n",
      "Epoch 3/10\n",
      "3000/3000 [==============================] - 113s 38ms/step - loss: 1.3698\n",
      "Epoch 4/10\n",
      "3000/3000 [==============================] - 107s 36ms/step - loss: 1.3467\n",
      "Epoch 5/10\n",
      "3000/3000 [==============================] - 101s 34ms/step - loss: 1.3267\n",
      "Epoch 6/10\n",
      "3000/3000 [==============================] - 112s 37ms/step - loss: 1.3148\n",
      "Epoch 7/10\n",
      "3000/3000 [==============================] - 114s 38ms/step - loss: 1.3037\n",
      "Epoch 8/10\n",
      "3000/3000 [==============================] - 112s 37ms/step - loss: 1.29290s - los\n",
      "Epoch 9/10\n",
      "3000/3000 [==============================] - 113s 38ms/step - loss: 1.2878\n",
      "Epoch 10/10\n",
      "3000/3000 [==============================] - 109s 36ms/step - loss: 1.2859\n"
     ]
    },
    {
     "data": {
      "text/plain": [
       "<keras.callbacks.History at 0x25cc4555908>"
      ]
     },
     "execution_count": 17,
     "metadata": {},
     "output_type": "execute_result"
    }
   ],
   "source": [
    "from keras.models import Sequential\n",
    "from keras.layers import LSTM, Dense\n",
    "import numpy as np\n",
    "\n",
    "data_dim = 128\n",
    "num_classes = 2\n",
    "latent_space_dim = 32\n",
    "\n",
    "\n",
    "# expected input data shape: (batch_size, timesteps, data_dim)\n",
    "model = Sequential()\n",
    "model.add(LSTM(latent_space_dim, return_sequences=True,\n",
    "               input_shape=(None, data_dim)))\n",
    "model.add(LSTM(128, return_sequences=True))\n",
    "# model.add(Dense(num_classes, activation='softmax'))\n",
    "\n",
    "model.compile(loss='mean_squared_error',\n",
    "              optimizer='adagrad')\n",
    "model.fit_generator(ae_data_generator(X_train), steps_per_epoch=3000, epochs=10, verbose=1)"
   ]
  },
  {
   "cell_type": "markdown",
   "metadata": {},
   "source": [
    "На всякий случай сохраняем модель"
   ]
  },
  {
   "cell_type": "code",
   "execution_count": 18,
   "metadata": {
    "collapsed": true
   },
   "outputs": [],
   "source": [
    "# model.save(\"./lstm_v1.hdf5\")"
   ]
  },
  {
   "cell_type": "markdown",
   "metadata": {},
   "source": [
    "Удаляем последний слой"
   ]
  },
  {
   "cell_type": "code",
   "execution_count": 19,
   "metadata": {},
   "outputs": [
    {
     "data": {
      "text/plain": [
       "[<keras.layers.recurrent.LSTM at 0x25c57cdbda0>,\n",
       " <keras.layers.recurrent.LSTM at 0x25cc3b1d630>]"
      ]
     },
     "execution_count": 19,
     "metadata": {},
     "output_type": "execute_result"
    }
   ],
   "source": [
    "model.layers.pop()\n",
    "model.layers"
   ]
  },
  {
   "cell_type": "code",
   "execution_count": 22,
   "metadata": {},
   "outputs": [],
   "source": [
    "X_train, X_test, y_train, y_test = train_test_split(balanced_auto_df[\"vectors\"].values, \n",
    "                                                    balanced_auto_df[\"target_bin\"].values, test_size=0.3)"
   ]
  },
  {
   "cell_type": "markdown",
   "metadata": {},
   "source": [
    "Добавляем классификатор со структурой, полученной в LSTM_classifier.ipynb"
   ]
  },
  {
   "cell_type": "code",
   "execution_count": 23,
   "metadata": {},
   "outputs": [
    {
     "name": "stdout",
     "output_type": "stream",
     "text": [
      "Epoch 1/2\n",
      "1500/1500 [==============================] - 119s 80ms/step - loss: 0.6540 - acc: 0.6444 - val_loss: 0.5686 - val_acc: 0.7097\n",
      "Epoch 2/2\n",
      "1500/1500 [==============================] - 95s 63ms/step - loss: 0.5604 - acc: 0.7169 - val_loss: 0.6127 - val_acc: 0.6665\n"
     ]
    },
    {
     "data": {
      "text/plain": [
       "<keras.callbacks.History at 0x25d102b7278>"
      ]
     },
     "execution_count": 23,
     "metadata": {},
     "output_type": "execute_result"
    }
   ],
   "source": [
    "hidden_size1 = 32\n",
    "hidden_size2 = 150\n",
    "\n",
    "model.add(LSTM(hidden_size1, return_sequences=True, input_shape=(None, 128)))\n",
    "model.add(Dense(1, activation='hard_sigmoid'))\n",
    "\n",
    "model.compile(loss='binary_crossentropy',\n",
    "              optimizer='adagrad', metrics=[\"accuracy\"])\n",
    "\n",
    "model.fit_generator(rnd_labeled_data_generator(X_train, y_train), \n",
    "                    validation_data=rnd_labeled_data_generator(X_test, y_test), \n",
    "                    steps_per_epoch=1500, epochs=2, verbose=1, validation_steps=100)"
   ]
  },
  {
   "cell_type": "code",
   "execution_count": 34,
   "metadata": {
    "collapsed": true
   },
   "outputs": [],
   "source": [
    "def predict(X, model):\n",
    "    predictions = []\n",
    "    for i, sample in enumerate(X):\n",
    "        clear_output(True)\n",
    "        display(\"Retrieving {}/{}\".format(i + 1, X.shape[0]))\n",
    "        predictions.append(model.predict(np.reshape(sample, [1, *np.array(sample).shape]), steps=1).reshape(-1))\n",
    "    return predictions\n",
    "\n",
    "def res_to_bin(y):\n",
    "    return np.array(list(map(lambda a: np.round(np.mean(a)).astype(int), y)))\n",
    "\n",
    "def accuracy(bin_res, y_test):\n",
    "    print(\"Balanced accuracy:\\t\\t{}\".format(balanced_accuracy_score(y_test, bin_res, adjusted=False)))\n",
    "    print(\"Balanced and adjusted accuracy:\\t{}\".format(balanced_accuracy_score(y_test, bin_res, adjusted=True)))\n",
    "    print(\"Unbalanced accuracy:\\t\\t{}\".format(accuracy_score(y_test, bin_res)))\n",
    "    \n",
    "def validate(X_test, y_test, model):\n",
    "    res = predict(X_test, model)\n",
    "    bin_res = res_to_bin(res)\n",
    "    accuracy(bin_res, y_test)"
   ]
  },
  {
   "cell_type": "markdown",
   "metadata": {},
   "source": [
    "Проверка точности на сбалансированных датасетах"
   ]
  },
  {
   "cell_type": "code",
   "execution_count": 36,
   "metadata": {
    "scrolled": true
   },
   "outputs": [
    {
     "data": {
      "text/plain": [
       "'Retrieving 1547/1547'"
      ]
     },
     "metadata": {},
     "output_type": "display_data"
    },
    {
     "name": "stdout",
     "output_type": "stream",
     "text": [
      "Balanced accuracy:\t\t0.7252423093131057\n",
      "Balanced and adjusted accuracy:\t0.4504846186262115\n",
      "Unbalanced accuracy:\t\t0.7265675500969618\n"
     ]
    }
   ],
   "source": [
    "print(\"Source domain test accuracy:\")\n",
    "validate(X_test, y_test, model)\n"
   ]
  },
  {
   "cell_type": "markdown",
   "metadata": {},
   "source": [
    "<table style=\"width:100%\">\n",
    "  <tr>\n",
    "    <td>Balanced accuracy</td>\n",
    "    <td>0.7252423093131057</td> \n",
    "  </tr>\n",
    "  <tr>\n",
    "    <td>Balanced and adjusted accuracy</td>\n",
    "    <td>0.4504846186262115</td> \n",
    "  </tr>\n",
    "  <tr>\n",
    "    <td>Unbalanced accuracy</td>\n",
    "    <td>0.7265675500969618</td> \n",
    "  </tr>\n",
    "</table>"
   ]
  },
  {
   "cell_type": "code",
   "execution_count": 37,
   "metadata": {},
   "outputs": [
    {
     "data": {
      "text/plain": [
       "'Retrieving 2478/2478'"
      ]
     },
     "metadata": {},
     "output_type": "display_data"
    },
    {
     "name": "stdout",
     "output_type": "stream",
     "text": [
      "Balanced accuracy:\t\t0.6872477804681194\n",
      "Balanced and adjusted accuracy:\t0.3744955609362388\n",
      "Unbalanced accuracy:\t\t0.6872477804681194\n"
     ]
    }
   ],
   "source": [
    "print(\"\\nTarget domain test accuracy:\")\n",
    "validate(balanced_mus_df[\"vectors\"].values, balanced_mus_df[\"target_bin\"].values, model)"
   ]
  },
  {
   "cell_type": "markdown",
   "metadata": {},
   "source": [
    "<table style=\"width:100%\">\n",
    "  <tr>\n",
    "    <td>Balanced accuracy</td>\n",
    "    <td>0.6872477804681194</td> \n",
    "  </tr>\n",
    "  <tr>\n",
    "    <td>Balanced and adjusted accuracy</td>\n",
    "    <td>0.3744955609362388</td> \n",
    "  </tr>\n",
    "  <tr>\n",
    "    <td>Unbalanced accuracy</td>\n",
    "    <td>0.6872477804681194</td> \n",
    "  </tr>\n",
    "</table>"
   ]
  },
  {
   "cell_type": "markdown",
   "metadata": {},
   "source": [
    "Проверка точности на полном датасете целевого домена"
   ]
  },
  {
   "cell_type": "code",
   "execution_count": 38,
   "metadata": {},
   "outputs": [
    {
     "data": {
      "text/plain": [
       "'Retrieving 10261/10261'"
      ]
     },
     "metadata": {},
     "output_type": "display_data"
    },
    {
     "name": "stdout",
     "output_type": "stream",
     "text": [
      "Balanced accuracy:\t\t0.6946184727530891\n",
      "Balanced and adjusted accuracy:\t0.38923694550617816\n",
      "Unbalanced accuracy:\t\t0.7635708020660754\n"
     ]
    }
   ],
   "source": [
    "print(\"\\nTarget domain test accuracy (full dataset):\")\n",
    "validate(mus_df[\"vectors\"].values, mus_df[\"target_bin\"].values, model)"
   ]
  },
  {
   "cell_type": "markdown",
   "metadata": {},
   "source": [
    "<table style=\"width:100%\">\n",
    "  <tr>\n",
    "    <td>Balanced accuracy</td>\n",
    "    <td>0.6946184727530891</td> \n",
    "  </tr>\n",
    "  <tr>\n",
    "    <td>Balanced and adjusted accuracy</td>\n",
    "    <td>0.38923694550617816</td> \n",
    "  </tr>\n",
    "  <tr>\n",
    "    <td>Unbalanced accuracy</td>\n",
    "    <td>0.7635708020660754</td> \n",
    "  </tr>\n",
    "</table>"
   ]
  },
  {
   "cell_type": "markdown",
   "metadata": {},
   "source": [
    "Сохраняем модель"
   ]
  },
  {
   "cell_type": "code",
   "execution_count": null,
   "metadata": {
    "collapsed": true
   },
   "outputs": [],
   "source": [
    "# model.save(\"./lstm_dense_v2.hdf5\")"
   ]
  },
  {
   "cell_type": "markdown",
   "metadata": {},
   "source": [
    "Точность достигла хороших значений для обоих доменов.\n",
    "> Source domain test accuracy: 0.8351154837766662<br>\n",
    "> Target domain test accuracy: 0.8674490487938746 \n"
   ]
  }
 ],
 "metadata": {
  "kernelspec": {
   "display_name": "Python 3",
   "language": "python",
   "name": "python3"
  },
  "language_info": {
   "codemirror_mode": {
    "name": "ipython",
    "version": 3
   },
   "file_extension": ".py",
   "mimetype": "text/x-python",
   "name": "python",
   "nbconvert_exporter": "python",
   "pygments_lexer": "ipython3",
   "version": "3.6.7"
  }
 },
 "nbformat": 4,
 "nbformat_minor": 2
}
