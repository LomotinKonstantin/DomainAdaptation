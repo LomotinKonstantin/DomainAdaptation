{
 "cells": [
  {
   "cell_type": "code",
   "execution_count": 1,
   "metadata": {},
   "outputs": [],
   "source": [
    "import tensorflow as tf\n",
    "import pandas as pd\n",
    "import numpy as np\n",
    "from IPython.display import display, clear_output"
   ]
  },
  {
   "cell_type": "markdown",
   "metadata": {},
   "source": [
    "Загружаем векторы"
   ]
  },
  {
   "cell_type": "code",
   "execution_count": 2,
   "metadata": {
    "collapsed": true
   },
   "outputs": [],
   "source": [
    "vectors = {\n",
    "    \"mus\": \"../data/mus_vectors.csv\",\n",
    "    \"auto\": \"../data/auto_vectors.csv\"\n",
    "}"
   ]
  },
  {
   "cell_type": "markdown",
   "metadata": {},
   "source": [
    "Отзывы об автомобилях примем за исходный домен, а отзывы о музыкальных инструментах - за целевой "
   ]
  },
  {
   "cell_type": "code",
   "execution_count": 3,
   "metadata": {},
   "outputs": [],
   "source": [
    "def load_vectors(path: str, dummy=False) -> pd.DataFrame:\n",
    "    if not dummy:\n",
    "        return pd.read_csv(path, sep=\"\\t\")\n",
    "    else:\n",
    "        first_line_skipped = False\n",
    "        data = {\n",
    "            \"overall\": [],\n",
    "            \"vectors\": []\n",
    "        }\n",
    "        cntr = 1\n",
    "        with open(path) as file:\n",
    "            for line in file:\n",
    "                clear_output(True)\n",
    "                display(\"Reading line %d\" % cntr)\n",
    "                if not first_line_skipped:\n",
    "                    first_line_skipped = True\n",
    "                    continue\n",
    "                score, vectors = line.split(\"\\t\")\n",
    "                vector = eval(vectors)\n",
    "                if type(vector) != type([]):\n",
    "                    raise ValueError(\"{} in line {}\".format(vector, cntr))\n",
    "                data[\"overall\"].append(eval(score))\n",
    "                data[\"vectors\"].append(vector)\n",
    "                cntr += 1\n",
    "        return pd.DataFrame(data)"
   ]
  },
  {
   "cell_type": "code",
   "execution_count": 4,
   "metadata": {},
   "outputs": [],
   "source": [
    "mus_df = load_vectors(vectors[\"mus\"])"
   ]
  },
  {
   "cell_type": "code",
   "execution_count": 5,
   "metadata": {},
   "outputs": [
    {
     "data": {
      "text/plain": [
       "'Reading line 20473'"
      ]
     },
     "metadata": {},
     "output_type": "display_data"
    }
   ],
   "source": [
    "# Кернель умирает при загрузке большого файла,\n",
    "# Поэтому грузим вручную\n",
    "auto_df = load_vectors(vectors[\"auto\"], dummy=True)"
   ]
  },
  {
   "cell_type": "markdown",
   "metadata": {},
   "source": [
    "Преобразуем векторы из строк в списки. По какой-то причине Series.apply наглухо стопорит кернель"
   ]
  },
  {
   "cell_type": "code",
   "execution_count": 6,
   "metadata": {},
   "outputs": [
    {
     "data": {
      "text/plain": [
       "'10261 / 10261'"
      ]
     },
     "metadata": {},
     "output_type": "display_data"
    }
   ],
   "source": [
    "for i in range(mus_df.shape[0]):\n",
    "    clear_output(True)\n",
    "    display(\"{} / {}\".format(i+1, mus_df.shape[0]))\n",
    "    mus_df.at[i, \"vectors\"] = eval(mus_df.loc[i, \"vectors\"])"
   ]
  },
  {
   "cell_type": "code",
   "execution_count": 7,
   "metadata": {},
   "outputs": [],
   "source": [
    "# Кодируем классы. Если оценка больше 3, то считаем ее хорошей\n",
    "# Иначе отзыв плохой\n",
    "auto_df[\"overall\"] = (auto_df[\"overall\"] > 3).astype(int)\n",
    "mus_df[\"overall\"] = (mus_df[\"overall\"] > 3).astype(int)"
   ]
  },
  {
   "cell_type": "markdown",
   "metadata": {},
   "source": [
    "Обучаем LSTM-автоэнкодер на данных из двух доменов"
   ]
  },
  {
   "cell_type": "code",
   "execution_count": 8,
   "metadata": {},
   "outputs": [],
   "source": [
    "X_train = pd.concat([auto_df[\"vectors\"], mus_df[\"vectors\"]]).values"
   ]
  },
  {
   "cell_type": "code",
   "execution_count": 9,
   "metadata": {},
   "outputs": [
    {
     "data": {
      "text/plain": [
       "(30734,)"
      ]
     },
     "execution_count": 9,
     "metadata": {},
     "output_type": "execute_result"
    }
   ],
   "source": [
    "X_train.shape"
   ]
  },
  {
   "cell_type": "code",
   "execution_count": 10,
   "metadata": {},
   "outputs": [
    {
     "data": {
      "text/plain": [
       "'30734 / 30734'"
      ]
     },
     "metadata": {},
     "output_type": "display_data"
    }
   ],
   "source": [
    "# Converting to ndarray\n",
    "for i in range(X_train.shape[0]):\n",
    "    clear_output(True)\n",
    "    display(\"{} / {}\".format(i+1, X_train.shape[0]))\n",
    "    X_train[i] = np.array([np.array(vec) for vec in X_train[i]])"
   ]
  },
  {
   "cell_type": "code",
   "execution_count": 11,
   "metadata": {},
   "outputs": [],
   "source": [
    "np.random.shuffle(X_train)"
   ]
  },
  {
   "cell_type": "code",
   "execution_count": 12,
   "metadata": {},
   "outputs": [],
   "source": [
    "def data_generator():\n",
    "    while True:\n",
    "        x = X_train[np.random.choice(np.arange(X_train.shape[0]))]\n",
    "        x = np.array([x])\n",
    "        # Попытка поймать баг\n",
    "        if len(x.shape) != 3:\n",
    "            print(x)\n",
    "        yield x, x "
   ]
  },
  {
   "cell_type": "code",
   "execution_count": 13,
   "metadata": {
    "collapsed": true
   },
   "outputs": [],
   "source": [
    "train_percent = 0.7"
   ]
  },
  {
   "cell_type": "code",
   "execution_count": 14,
   "metadata": {
    "collapsed": true
   },
   "outputs": [],
   "source": [
    "def labeled_data_generator():\n",
    "    while True:\n",
    "        index = np.random.choice(np.arange(auto_df.shape[0] * train_percent))\n",
    "        x = auto_df.loc[index, \"vectors\"]\n",
    "        x = np.array([x])\n",
    "        y = auto_df.loc[index, \"overall\"]\n",
    "        y = np.array([y]).reshape([1, 1, 1])\n",
    "        yield x, y"
   ]
  },
  {
   "cell_type": "code",
   "execution_count": 15,
   "metadata": {
    "collapsed": true
   },
   "outputs": [],
   "source": [
    "def auto_val_data_generator():\n",
    "    while True:\n",
    "        index = np.random.choice(np.arange(auto_df.shape[0])[int(auto_df.shape[0] * train_percent): ])\n",
    "        x = auto_df.loc[index, \"vectors\"]\n",
    "        x = np.array([x])\n",
    "        y = auto_df.loc[index, \"overall\"]\n",
    "        y = np.array([y]).reshape([1, 1, 1])\n",
    "        yield x, y"
   ]
  },
  {
   "cell_type": "markdown",
   "metadata": {},
   "source": [
    "Используем pretraining.\n",
    "Из-за того, что размер последовательностей не фиксирован, а батч для обучения должен быть тензором, приходится обучать модель по одному сэмплу за раз."
   ]
  },
  {
   "cell_type": "code",
   "execution_count": 16,
   "metadata": {},
   "outputs": [
    {
     "name": "stderr",
     "output_type": "stream",
     "text": [
      "Using TensorFlow backend.\n"
     ]
    },
    {
     "name": "stdout",
     "output_type": "stream",
     "text": [
      "Epoch 1/10\n",
      "5000/5000 [==============================] - 207s 41ms/step - loss: 1.5066\n",
      "Epoch 2/10\n",
      "5000/5000 [==============================] - 199s 40ms/step - loss: 1.3660\n",
      "Epoch 3/10\n",
      "5000/5000 [==============================] - 198s 40ms/step - loss: 1.3310\n",
      "Epoch 4/10\n",
      "5000/5000 [==============================] - 201s 40ms/step - loss: 1.3113\n",
      "Epoch 5/10\n",
      "5000/5000 [==============================] - 208s 42ms/step - loss: 1.2957\n",
      "Epoch 6/10\n",
      "5000/5000 [==============================] - 201s 40ms/step - loss: 1.2847\n",
      "Epoch 7/10\n",
      "5000/5000 [==============================] - 203s 41ms/step - loss: 1.2805\n",
      "Epoch 8/10\n",
      "5000/5000 [==============================] - 196s 39ms/step - loss: 1.2706\n",
      "Epoch 9/10\n",
      "5000/5000 [==============================] - 191s 38ms/step - loss: 1.2647\n",
      "Epoch 10/10\n",
      "5000/5000 [==============================] - 206s 41ms/step - loss: 1.2524\n"
     ]
    },
    {
     "data": {
      "text/plain": [
       "<keras.callbacks.History at 0x1af69f95ac8>"
      ]
     },
     "execution_count": 16,
     "metadata": {},
     "output_type": "execute_result"
    }
   ],
   "source": [
    "from keras.models import Sequential\n",
    "from keras.layers import LSTM, Dense\n",
    "import numpy as np\n",
    "\n",
    "data_dim = 128\n",
    "num_classes = 2\n",
    "latent_space_dim = 32\n",
    "\n",
    "# expected input data shape: (batch_size, timesteps, data_dim)\n",
    "model = Sequential()\n",
    "model.add(LSTM(latent_space_dim, return_sequences=True,\n",
    "               input_shape=(None, data_dim)))\n",
    "model.add(LSTM(128, return_sequences=True))\n",
    "# model.add(Dense(num_classes, activation='softmax'))\n",
    "\n",
    "model.compile(loss='mean_squared_error',\n",
    "              optimizer='adagrad')\n",
    "model.fit_generator(data_generator(), steps_per_epoch=5000, epochs=10, verbose=1)"
   ]
  },
  {
   "cell_type": "markdown",
   "metadata": {},
   "source": [
    "На всякий случай сохраняем модель"
   ]
  },
  {
   "cell_type": "code",
   "execution_count": 17,
   "metadata": {},
   "outputs": [],
   "source": [
    "model.save(\"./lstm_v1.hdf5\")"
   ]
  },
  {
   "cell_type": "markdown",
   "metadata": {},
   "source": [
    "Удаляем последний слой"
   ]
  },
  {
   "cell_type": "code",
   "execution_count": 18,
   "metadata": {},
   "outputs": [
    {
     "data": {
      "text/plain": [
       "[<keras.layers.recurrent.LSTM at 0x1ae69831f28>]"
      ]
     },
     "execution_count": 18,
     "metadata": {},
     "output_type": "execute_result"
    }
   ],
   "source": [
    "model.layers.pop()\n",
    "model.layers"
   ]
  },
  {
   "cell_type": "markdown",
   "metadata": {},
   "source": [
    "Добавляем слой для классификации"
   ]
  },
  {
   "cell_type": "code",
   "execution_count": 19,
   "metadata": {
    "collapsed": true
   },
   "outputs": [],
   "source": [
    "model.add(Dense(1, activation=\"sigmoid\"))"
   ]
  },
  {
   "cell_type": "code",
   "execution_count": 20,
   "metadata": {},
   "outputs": [
    {
     "data": {
      "text/plain": [
       "[<keras.layers.recurrent.LSTM at 0x1ae69831f28>,\n",
       " <keras.layers.core.Dense at 0x1ae698317f0>]"
      ]
     },
     "execution_count": 20,
     "metadata": {},
     "output_type": "execute_result"
    }
   ],
   "source": [
    "model.layers"
   ]
  },
  {
   "cell_type": "code",
   "execution_count": 21,
   "metadata": {},
   "outputs": [],
   "source": [
    "model.compile(loss='binary_crossentropy',\n",
    "              optimizer='adagrad', metrics=[\"accuracy\"])"
   ]
  },
  {
   "cell_type": "code",
   "execution_count": 22,
   "metadata": {},
   "outputs": [
    {
     "name": "stdout",
     "output_type": "stream",
     "text": [
      "Epoch 1/10\n",
      "5000/5000 [==============================] - 219s 44ms/step - loss: 0.3274 - acc: 0.8877 - val_loss: 0.3825 - val_acc: 0.8456\n",
      "Epoch 2/10\n",
      "5000/5000 [==============================] - 203s 41ms/step - loss: 0.3196 - acc: 0.8800 - val_loss: 0.4083 - val_acc: 0.8354\n",
      "Epoch 3/10\n",
      "5000/5000 [==============================] - 187s 37ms/step - loss: 0.3177 - acc: 0.8779 - val_loss: 0.3313 - val_acc: 0.8754\n",
      "Epoch 4/10\n",
      "5000/5000 [==============================] - 191s 38ms/step - loss: 0.3130 - acc: 0.8797 - val_loss: 0.3553 - val_acc: 0.8607\n",
      "Epoch 5/10\n",
      "5000/5000 [==============================] - 186s 37ms/step - loss: 0.3118 - acc: 0.8780 - val_loss: 0.3868 - val_acc: 0.8393\n",
      "Epoch 6/10\n",
      "5000/5000 [==============================] - 187s 37ms/step - loss: 0.2973 - acc: 0.8848 - val_loss: 0.3420 - val_acc: 0.8672\n",
      "Epoch 7/10\n",
      "5000/5000 [==============================] - 188s 38ms/step - loss: 0.2951 - acc: 0.8847 - val_loss: 0.3908 - val_acc: 0.8343\n",
      "Epoch 8/10\n",
      "5000/5000 [==============================] - 186s 37ms/step - loss: 0.2864 - acc: 0.8889 - val_loss: 0.3549 - val_acc: 0.8586\n",
      "Epoch 9/10\n",
      "5000/5000 [==============================] - 191s 38ms/step - loss: 0.2839 - acc: 0.8922 - val_loss: 0.3327 - val_acc: 0.8804\n",
      "Epoch 10/10\n",
      "5000/5000 [==============================] - 191s 38ms/step - loss: 0.2797 - acc: 0.8916 - val_loss: 0.3764 - val_acc: 0.8324\n"
     ]
    },
    {
     "data": {
      "text/plain": [
       "<keras.callbacks.History at 0x1afaf51ae48>"
      ]
     },
     "execution_count": 22,
     "metadata": {},
     "output_type": "execute_result"
    }
   ],
   "source": [
    "model.fit_generator(labeled_data_generator(), steps_per_epoch=5000, validation_steps=1000,\n",
    "                    epochs=10, verbose=1, validation_data=auto_val_data_generator())"
   ]
  },
  {
   "cell_type": "markdown",
   "metadata": {},
   "source": [
    "Таким образом, точность предобученной модели на исходном домене составила 0.88\n",
    "Теперь проведем валидацию модели на объектах из целевого домена"
   ]
  },
  {
   "cell_type": "code",
   "execution_count": 23,
   "metadata": {
    "collapsed": true
   },
   "outputs": [],
   "source": [
    "def mus_test_set():\n",
    "    while True:\n",
    "        ind = np.random.choice(np.arange(mus_df.shape[0]))\n",
    "        x = mus_df.loc[ind, \"vectors\"]\n",
    "        x = np.array([x])\n",
    "        y = mus_df.loc[ind, \"overall\"]\n",
    "        y = np.array([y]).reshape([1, 1, 1])\n",
    "        yield x, y\n",
    "\n",
    "def test_target_domain(size: int, model):\n",
    "    acc = model.evaluate_generator(mus_test_set(), steps=size)\n",
    "    print(\"Target domain test accuracy: {}\".format(acc[1]))\n",
    "    \n",
    "def test_source_domain(size: int, model):\n",
    "    acc = model.evaluate_generator(auto_val_data_generator(), steps=size)\n",
    "    print(\"Source domain test accuracy: {}\".format(acc[1]))"
   ]
  },
  {
   "cell_type": "code",
   "execution_count": 92,
   "metadata": {},
   "outputs": [
    {
     "name": "stdout",
     "output_type": "stream",
     "text": [
      "Source domain test accuracy: 0.8306105344431475\n",
      "Target domain test accuracy: 0.8749965798421298\n"
     ]
    }
   ],
   "source": [
    "samples = 5000\n",
    "test_source_domain(samples, model)\n",
    "test_target_domain(samples, model)"
   ]
  },
  {
   "cell_type": "markdown",
   "metadata": {},
   "source": [
    "Сохраняем модель"
   ]
  },
  {
   "cell_type": "code",
   "execution_count": 25,
   "metadata": {
    "collapsed": true
   },
   "outputs": [],
   "source": [
    "model.save(\"./lstm_dense_v1.hdf5\")"
   ]
  },
  {
   "cell_type": "markdown",
   "metadata": {},
   "source": [
    "Точность достигла хороших значений для обоих доменов.\n",
    "> Source domain test accuracy: 0.8351154837766662<br>\n",
    "> Target domain test accuracy: 0.8674490487938746 \n",
    "\n",
    "Возможно, это вызвано дисбалансом классов и высокой полнотой. Нужно проверить сбалансированную метрику accuracy"
   ]
  },
  {
   "cell_type": "code",
   "execution_count": 95,
   "metadata": {},
   "outputs": [
    {
     "name": "stdout",
     "output_type": "stream",
     "text": [
      "Source domain test balanced accuracy: 0.5861532156295663\n",
      "Target domain test balanced accuracy: 0.5921612097759897\n"
     ]
    }
   ],
   "source": [
    "from sklearn.metrics import accuracy_score\n",
    "\n",
    "def check_balanced_accuracy(n_samples: int) -> None:\n",
    "    # Checking source domain \n",
    "    classes = auto_df.groupby(\"overall\").count()\n",
    "    zero_weight = classes.loc[classes.index==0].values[0][0] / auto_df.shape[0]\n",
    "    one_weight = classes.loc[classes.index==1].values[0][0] / auto_df.shape[0]\n",
    "    index = np.random.choice(np.arange(auto_df.shape[0])[int(auto_df.shape[0] * train_percent): ], \n",
    "                             size=n_samples)\n",
    "    x = auto_df.loc[index, \"vectors\"].values\n",
    "    x = [np.array([i]) for i in x]\n",
    "    y_true = auto_df.loc[index, \"overall\"].values\n",
    "    y_pred = []\n",
    "    sample_weights = y_true.astype(\"float32\")\n",
    "    # для каждой единицы для баланса присваиваем вес нуля\n",
    "    sample_weights *= zero_weight\n",
    "    # а для каждого нуля - больший вес, вес единицы\n",
    "    sample_weights[sample_weights == 0] += one_weight\n",
    "    for sample in x:\n",
    "        y_pred.append(np.round(np.mean(model.predict_classes(sample))))\n",
    "    y_pred = np.array(y_pred)\n",
    "    score = accuracy_score(y_true, y_pred, sample_weight=sample_weights)\n",
    "    print(\"Source domain test balanced accuracy: {}\".format(score))\n",
    "    \n",
    "    # Checking target domain\n",
    "    classes = mus_df.groupby(\"overall\").count()\n",
    "    zero_weight = classes.loc[classes.index==0].values[0][0] / auto_df.shape[0]\n",
    "    one_weight = classes.loc[classes.index==1].values[0][0] / auto_df.shape[0]\n",
    "    index = np.random.choice(np.random.choice(np.arange(mus_df.shape[0])), \n",
    "                             size=n_samples)\n",
    "    x = mus_df.loc[index, \"vectors\"].values\n",
    "    x = [np.array([i]) for i in x]\n",
    "    y_true = mus_df.loc[index, \"overall\"].values\n",
    "    y_pred = []\n",
    "    sample_weights = y_true.astype(\"float32\")\n",
    "    # для каждой единицы для баланса присваиваем вес нуля\n",
    "    sample_weights *= zero_weight\n",
    "    # а для каждого нуля - больший вес, вес единицы\n",
    "    sample_weights[sample_weights == 0] += one_weight\n",
    "    for sample in x:\n",
    "        y_pred.append(np.round(np.mean(model.predict_classes(sample))))\n",
    "    y_pred = np.array(y_pred)\n",
    "    score = accuracy_score(y_true, y_pred, sample_weight=sample_weights)\n",
    "    print(\"Target domain test balanced accuracy: {}\".format(score))\n",
    "    \n",
    "check_balanced_accuracy(5000)"
   ]
  },
  {
   "cell_type": "markdown",
   "metadata": {},
   "source": [
    "Теперь мы получили более правдоподобные значения:\n",
    "\n",
    ">Source domain test balanced accuracy: 0.5861532156295663<br>\n",
    "Target domain test balanced accuracy: 0.5921612097759897\n",
    "\n",
    "Тем не менее, они довольно близки. Можно сказать, что baseline-модель успешно решает задачу domain adaptation"
   ]
  },
  {
   "cell_type": "code",
   "execution_count": 89,
   "metadata": {},
   "outputs": [
    {
     "data": {
      "text/html": [
       "<div>\n",
       "<style>\n",
       "    .dataframe thead tr:only-child th {\n",
       "        text-align: right;\n",
       "    }\n",
       "\n",
       "    .dataframe thead th {\n",
       "        text-align: left;\n",
       "    }\n",
       "\n",
       "    .dataframe tbody tr th {\n",
       "        vertical-align: top;\n",
       "    }\n",
       "</style>\n",
       "<table border=\"1\" class=\"dataframe\">\n",
       "  <thead>\n",
       "    <tr style=\"text-align: right;\">\n",
       "      <th></th>\n",
       "      <th>vectors</th>\n",
       "    </tr>\n",
       "    <tr>\n",
       "      <th>overall</th>\n",
       "      <th></th>\n",
       "    </tr>\n",
       "  </thead>\n",
       "  <tbody>\n",
       "    <tr>\n",
       "      <th>0</th>\n",
       "      <td>1239</td>\n",
       "    </tr>\n",
       "    <tr>\n",
       "      <th>1</th>\n",
       "      <td>9022</td>\n",
       "    </tr>\n",
       "  </tbody>\n",
       "</table>\n",
       "</div>"
      ],
      "text/plain": [
       "         vectors\n",
       "overall         \n",
       "0           1239\n",
       "1           9022"
      ]
     },
     "execution_count": 89,
     "metadata": {},
     "output_type": "execute_result"
    }
   ],
   "source": [
    "mus_df.groupby(\"overall\").count()"
   ]
  },
  {
   "cell_type": "code",
   "execution_count": 70,
   "metadata": {},
   "outputs": [
    {
     "data": {
      "text/html": [
       "<div>\n",
       "<style>\n",
       "    .dataframe thead tr:only-child th {\n",
       "        text-align: right;\n",
       "    }\n",
       "\n",
       "    .dataframe thead th {\n",
       "        text-align: left;\n",
       "    }\n",
       "\n",
       "    .dataframe tbody tr th {\n",
       "        vertical-align: top;\n",
       "    }\n",
       "</style>\n",
       "<table border=\"1\" class=\"dataframe\">\n",
       "  <thead>\n",
       "    <tr style=\"text-align: right;\">\n",
       "      <th></th>\n",
       "      <th>vectors</th>\n",
       "    </tr>\n",
       "    <tr>\n",
       "      <th>overall</th>\n",
       "      <th></th>\n",
       "    </tr>\n",
       "  </thead>\n",
       "  <tbody>\n",
       "    <tr>\n",
       "      <th>0</th>\n",
       "      <td>2578</td>\n",
       "    </tr>\n",
       "    <tr>\n",
       "      <th>1</th>\n",
       "      <td>17895</td>\n",
       "    </tr>\n",
       "  </tbody>\n",
       "</table>\n",
       "</div>"
      ],
      "text/plain": [
       "         vectors\n",
       "overall         \n",
       "0           2578\n",
       "1          17895"
      ]
     },
     "execution_count": 70,
     "metadata": {},
     "output_type": "execute_result"
    }
   ],
   "source": [
    "auto_df.groupby(\"overall\").count()"
   ]
  }
 ],
 "metadata": {
  "kernelspec": {
   "display_name": "Python 3",
   "language": "python",
   "name": "python3"
  },
  "language_info": {
   "codemirror_mode": {
    "name": "ipython",
    "version": 3
   },
   "file_extension": ".py",
   "mimetype": "text/x-python",
   "name": "python",
   "nbconvert_exporter": "python",
   "pygments_lexer": "ipython3",
   "version": "3.6.1"
  }
 },
 "nbformat": 4,
 "nbformat_minor": 2
}
