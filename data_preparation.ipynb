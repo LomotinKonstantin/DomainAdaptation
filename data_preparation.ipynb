{
 "cells": [
  {
   "cell_type": "code",
   "execution_count": 1,
   "metadata": {
    "collapsed": true
   },
   "outputs": [],
   "source": [
    "import os\n",
    "import tensorflow as tf\n",
    "import numpy as np\n",
    "import pandas as pd\n",
    "import json\n",
    "from collections import OrderedDict\n",
    "from matplotlib import pyplot as plt\n",
    "from IPython.display import display, clear_output\n",
    "\n",
    "%matplotlib inline"
   ]
  },
  {
   "cell_type": "markdown",
   "metadata": {},
   "source": [
    "## Датасеты\n",
    "<a href=http://snap.stanford.edu/data/amazon/productGraph/categoryFiles/reviews_Musical_Instruments_5.json.gz>Датасет с отзывами на музыкальные инструменты</a><br>\n",
    "<a href=http://snap.stanford.edu/data/amazon/productGraph/categoryFiles/reviews_Automotive_5.json.gz>Датасет с отзывами на автомобили</a><br>\n",
    "<a href=http://snap.stanford.edu/data/amazon/productGraph/categoryFiles/reviews_Movies_and_TV_5.json.gz>Датасет с отзывами на фильмы</a><br>\n",
    "<a href=http://snap.stanford.edu/data/amazon/productGraph/categoryFiles/reviews_Electronics_5.json.gz>Датасет с отзывами на электронику</a><br>\n",
    "\n",
    "Чтобы все работало без редактирования, данные должны лежать в распакованном виде в ../data/"
   ]
  },
  {
   "cell_type": "code",
   "execution_count": 2,
   "metadata": {
    "collapsed": true
   },
   "outputs": [],
   "source": [
    "data_path = {\n",
    "    \"music\": os.path.join(\"..\", \"data\", \"Musical_Instruments_5.json\"),\n",
    "    \"auto\":  os.path.join(\"..\", \"data\", \"Automotive_5.json\"),\n",
    "    \"movies\":    os.path.join(\"..\", \"data\", \"Movies_and_TV_5.json\"),\n",
    "    \"electr\":    os.path.join(\"..\", \"data\", \"Electronics_5.json\"),\n",
    "}"
   ]
  },
  {
   "cell_type": "code",
   "execution_count": 3,
   "metadata": {
    "collapsed": true
   },
   "outputs": [],
   "source": [
    "def load_json(path: str, columns=[\"helpful\", \"reviewText\", \"summary\", \"overall\"]) -> pd.DataFrame:\n",
    "    '''\n",
    "    Loads Amazon Review Dataset from the specified json file.\n",
    "    Only includes fields, passed in 'columns' argument.\n",
    "    Returns: DataFrame\n",
    "    '''\n",
    "    if not os.path.exists(path):\n",
    "        raise FileExistsError(\"'%s' does not exists!\" % path)\n",
    "    with open(path) as fp:\n",
    "        lines = fp.readlines()\n",
    "    lines = list(map(lambda s: json.loads(s, object_pairs_hook=OrderedDict), lines))\n",
    "    return pd.DataFrame(lines).loc[:, columns]\n",
    "\n",
    "def raw_data_generator(path: str, columns=[\"helpful\", \"reviewText\", \"summary\", \"overall\"]) -> OrderedDict:\n",
    "    if not os.path.exists(path):\n",
    "        raise FileExistsError(\"'%s' does not exists!\" % path)\n",
    "    with open(path) as fp:\n",
    "        for line in fp:\n",
    "            parsed = json.loads(line, object_pairs_hook=OrderedDict)\n",
    "            yield {key: parsed[key] for key in columns}\n",
    "            \n",
    "def batch_generator(path: str, columns=[\"helpful\", \"reviewText\", \"summary\", \"overall\"], max_batch_size=500):\n",
    "    lines = []\n",
    "    for obj in raw_data_generator(path, columns):\n",
    "        lines.append(obj)\n",
    "        if len(lines) == max_batch_size:\n",
    "            yield pd.DataFrame(lines)\n",
    "            lines = []\n",
    "    yield pd.DataFrame(lines)\n",
    "\n",
    "def review_len(data: pd.DataFrame) -> np.array:\n",
    "    '''\n",
    "    Returns the list of reviews' lengths\n",
    "    '''\n",
    "    return np.array(list(map(lambda a: len(a.split()), data[\"reviewText\"])))"
   ]
  },
  {
   "cell_type": "code",
   "execution_count": 5,
   "metadata": {},
   "outputs": [
    {
     "ename": "KeyboardInterrupt",
     "evalue": "",
     "output_type": "error",
     "traceback": [
      "\u001b[1;31m---------------------------------------------------------------------------\u001b[0m",
      "\u001b[1;31mKeyboardInterrupt\u001b[0m                         Traceback (most recent call last)",
      "\u001b[1;32m<ipython-input-5-694de70985b1>\u001b[0m in \u001b[0;36m<module>\u001b[1;34m()\u001b[0m\n\u001b[0;32m      1\u001b[0m \u001b[1;31m# mus_df = load_json(data_path[\"music\"])\u001b[0m\u001b[1;33m\u001b[0m\u001b[1;33m\u001b[0m\u001b[1;33m\u001b[0m\u001b[0m\n\u001b[1;32m----> 2\u001b[1;33m \u001b[0mtv_df\u001b[0m \u001b[1;33m=\u001b[0m \u001b[0mload_json\u001b[0m\u001b[1;33m(\u001b[0m\u001b[0mdata_path\u001b[0m\u001b[1;33m[\u001b[0m\u001b[1;34m\"tv\"\u001b[0m\u001b[1;33m]\u001b[0m\u001b[1;33m)\u001b[0m\u001b[1;33m\u001b[0m\u001b[1;33m\u001b[0m\u001b[0m\n\u001b[0m",
      "\u001b[1;32m<ipython-input-4-826e6b178dbb>\u001b[0m in \u001b[0;36mload_json\u001b[1;34m(path, columns)\u001b[0m\n\u001b[0;32m      9\u001b[0m     \u001b[1;32mwith\u001b[0m \u001b[0mopen\u001b[0m\u001b[1;33m(\u001b[0m\u001b[0mpath\u001b[0m\u001b[1;33m)\u001b[0m \u001b[1;32mas\u001b[0m \u001b[0mfp\u001b[0m\u001b[1;33m:\u001b[0m\u001b[1;33m\u001b[0m\u001b[1;33m\u001b[0m\u001b[0m\n\u001b[0;32m     10\u001b[0m         \u001b[0mlines\u001b[0m \u001b[1;33m=\u001b[0m \u001b[0mfp\u001b[0m\u001b[1;33m.\u001b[0m\u001b[0mreadlines\u001b[0m\u001b[1;33m(\u001b[0m\u001b[1;33m)\u001b[0m\u001b[1;33m\u001b[0m\u001b[1;33m\u001b[0m\u001b[0m\n\u001b[1;32m---> 11\u001b[1;33m     \u001b[0mlines\u001b[0m \u001b[1;33m=\u001b[0m \u001b[0mlist\u001b[0m\u001b[1;33m(\u001b[0m\u001b[0mmap\u001b[0m\u001b[1;33m(\u001b[0m\u001b[1;32mlambda\u001b[0m \u001b[0ms\u001b[0m\u001b[1;33m:\u001b[0m \u001b[0mjson\u001b[0m\u001b[1;33m.\u001b[0m\u001b[0mloads\u001b[0m\u001b[1;33m(\u001b[0m\u001b[0ms\u001b[0m\u001b[1;33m,\u001b[0m \u001b[0mobject_pairs_hook\u001b[0m\u001b[1;33m=\u001b[0m\u001b[0mOrderedDict\u001b[0m\u001b[1;33m)\u001b[0m\u001b[1;33m,\u001b[0m \u001b[0mlines\u001b[0m\u001b[1;33m)\u001b[0m\u001b[1;33m)\u001b[0m\u001b[1;33m\u001b[0m\u001b[1;33m\u001b[0m\u001b[0m\n\u001b[0m\u001b[0;32m     12\u001b[0m     \u001b[1;32mreturn\u001b[0m \u001b[0mpd\u001b[0m\u001b[1;33m.\u001b[0m\u001b[0mDataFrame\u001b[0m\u001b[1;33m(\u001b[0m\u001b[0mlines\u001b[0m\u001b[1;33m)\u001b[0m\u001b[1;33m.\u001b[0m\u001b[0mloc\u001b[0m\u001b[1;33m[\u001b[0m\u001b[1;33m:\u001b[0m\u001b[1;33m,\u001b[0m \u001b[0mcolumns\u001b[0m\u001b[1;33m]\u001b[0m\u001b[1;33m\u001b[0m\u001b[1;33m\u001b[0m\u001b[0m\n\u001b[0;32m     13\u001b[0m \u001b[1;33m\u001b[0m\u001b[0m\n",
      "\u001b[1;32m<ipython-input-4-826e6b178dbb>\u001b[0m in \u001b[0;36m<lambda>\u001b[1;34m(s)\u001b[0m\n\u001b[0;32m      9\u001b[0m     \u001b[1;32mwith\u001b[0m \u001b[0mopen\u001b[0m\u001b[1;33m(\u001b[0m\u001b[0mpath\u001b[0m\u001b[1;33m)\u001b[0m \u001b[1;32mas\u001b[0m \u001b[0mfp\u001b[0m\u001b[1;33m:\u001b[0m\u001b[1;33m\u001b[0m\u001b[1;33m\u001b[0m\u001b[0m\n\u001b[0;32m     10\u001b[0m         \u001b[0mlines\u001b[0m \u001b[1;33m=\u001b[0m \u001b[0mfp\u001b[0m\u001b[1;33m.\u001b[0m\u001b[0mreadlines\u001b[0m\u001b[1;33m(\u001b[0m\u001b[1;33m)\u001b[0m\u001b[1;33m\u001b[0m\u001b[1;33m\u001b[0m\u001b[0m\n\u001b[1;32m---> 11\u001b[1;33m     \u001b[0mlines\u001b[0m \u001b[1;33m=\u001b[0m \u001b[0mlist\u001b[0m\u001b[1;33m(\u001b[0m\u001b[0mmap\u001b[0m\u001b[1;33m(\u001b[0m\u001b[1;32mlambda\u001b[0m \u001b[0ms\u001b[0m\u001b[1;33m:\u001b[0m \u001b[0mjson\u001b[0m\u001b[1;33m.\u001b[0m\u001b[0mloads\u001b[0m\u001b[1;33m(\u001b[0m\u001b[0ms\u001b[0m\u001b[1;33m,\u001b[0m \u001b[0mobject_pairs_hook\u001b[0m\u001b[1;33m=\u001b[0m\u001b[0mOrderedDict\u001b[0m\u001b[1;33m)\u001b[0m\u001b[1;33m,\u001b[0m \u001b[0mlines\u001b[0m\u001b[1;33m)\u001b[0m\u001b[1;33m)\u001b[0m\u001b[1;33m\u001b[0m\u001b[1;33m\u001b[0m\u001b[0m\n\u001b[0m\u001b[0;32m     12\u001b[0m     \u001b[1;32mreturn\u001b[0m \u001b[0mpd\u001b[0m\u001b[1;33m.\u001b[0m\u001b[0mDataFrame\u001b[0m\u001b[1;33m(\u001b[0m\u001b[0mlines\u001b[0m\u001b[1;33m)\u001b[0m\u001b[1;33m.\u001b[0m\u001b[0mloc\u001b[0m\u001b[1;33m[\u001b[0m\u001b[1;33m:\u001b[0m\u001b[1;33m,\u001b[0m \u001b[0mcolumns\u001b[0m\u001b[1;33m]\u001b[0m\u001b[1;33m\u001b[0m\u001b[1;33m\u001b[0m\u001b[0m\n\u001b[0;32m     13\u001b[0m \u001b[1;33m\u001b[0m\u001b[0m\n",
      "\u001b[1;32mC:\\ProgramData\\Anaconda3\\lib\\json\\__init__.py\u001b[0m in \u001b[0;36mloads\u001b[1;34m(s, encoding, cls, object_hook, parse_float, parse_int, parse_constant, object_pairs_hook, **kw)\u001b[0m\n\u001b[0;32m    365\u001b[0m     \u001b[1;32mif\u001b[0m \u001b[0mparse_constant\u001b[0m \u001b[1;32mis\u001b[0m \u001b[1;32mnot\u001b[0m \u001b[1;32mNone\u001b[0m\u001b[1;33m:\u001b[0m\u001b[1;33m\u001b[0m\u001b[1;33m\u001b[0m\u001b[0m\n\u001b[0;32m    366\u001b[0m         \u001b[0mkw\u001b[0m\u001b[1;33m[\u001b[0m\u001b[1;34m'parse_constant'\u001b[0m\u001b[1;33m]\u001b[0m \u001b[1;33m=\u001b[0m \u001b[0mparse_constant\u001b[0m\u001b[1;33m\u001b[0m\u001b[1;33m\u001b[0m\u001b[0m\n\u001b[1;32m--> 367\u001b[1;33m     \u001b[1;32mreturn\u001b[0m \u001b[0mcls\u001b[0m\u001b[1;33m(\u001b[0m\u001b[1;33m**\u001b[0m\u001b[0mkw\u001b[0m\u001b[1;33m)\u001b[0m\u001b[1;33m.\u001b[0m\u001b[0mdecode\u001b[0m\u001b[1;33m(\u001b[0m\u001b[0ms\u001b[0m\u001b[1;33m)\u001b[0m\u001b[1;33m\u001b[0m\u001b[1;33m\u001b[0m\u001b[0m\n\u001b[0m",
      "\u001b[1;32mC:\\ProgramData\\Anaconda3\\lib\\json\\decoder.py\u001b[0m in \u001b[0;36mdecode\u001b[1;34m(self, s, _w)\u001b[0m\n\u001b[0;32m    337\u001b[0m \u001b[1;33m\u001b[0m\u001b[0m\n\u001b[0;32m    338\u001b[0m         \"\"\"\n\u001b[1;32m--> 339\u001b[1;33m         \u001b[0mobj\u001b[0m\u001b[1;33m,\u001b[0m \u001b[0mend\u001b[0m \u001b[1;33m=\u001b[0m \u001b[0mself\u001b[0m\u001b[1;33m.\u001b[0m\u001b[0mraw_decode\u001b[0m\u001b[1;33m(\u001b[0m\u001b[0ms\u001b[0m\u001b[1;33m,\u001b[0m \u001b[0midx\u001b[0m\u001b[1;33m=\u001b[0m\u001b[0m_w\u001b[0m\u001b[1;33m(\u001b[0m\u001b[0ms\u001b[0m\u001b[1;33m,\u001b[0m \u001b[1;36m0\u001b[0m\u001b[1;33m)\u001b[0m\u001b[1;33m.\u001b[0m\u001b[0mend\u001b[0m\u001b[1;33m(\u001b[0m\u001b[1;33m)\u001b[0m\u001b[1;33m)\u001b[0m\u001b[1;33m\u001b[0m\u001b[1;33m\u001b[0m\u001b[0m\n\u001b[0m\u001b[0;32m    340\u001b[0m         \u001b[0mend\u001b[0m \u001b[1;33m=\u001b[0m \u001b[0m_w\u001b[0m\u001b[1;33m(\u001b[0m\u001b[0ms\u001b[0m\u001b[1;33m,\u001b[0m \u001b[0mend\u001b[0m\u001b[1;33m)\u001b[0m\u001b[1;33m.\u001b[0m\u001b[0mend\u001b[0m\u001b[1;33m(\u001b[0m\u001b[1;33m)\u001b[0m\u001b[1;33m\u001b[0m\u001b[1;33m\u001b[0m\u001b[0m\n\u001b[0;32m    341\u001b[0m         \u001b[1;32mif\u001b[0m \u001b[0mend\u001b[0m \u001b[1;33m!=\u001b[0m \u001b[0mlen\u001b[0m\u001b[1;33m(\u001b[0m\u001b[0ms\u001b[0m\u001b[1;33m)\u001b[0m\u001b[1;33m:\u001b[0m\u001b[1;33m\u001b[0m\u001b[1;33m\u001b[0m\u001b[0m\n",
      "\u001b[1;32mC:\\ProgramData\\Anaconda3\\lib\\json\\decoder.py\u001b[0m in \u001b[0;36mraw_decode\u001b[1;34m(self, s, idx)\u001b[0m\n\u001b[0;32m    353\u001b[0m         \"\"\"\n\u001b[0;32m    354\u001b[0m         \u001b[1;32mtry\u001b[0m\u001b[1;33m:\u001b[0m\u001b[1;33m\u001b[0m\u001b[1;33m\u001b[0m\u001b[0m\n\u001b[1;32m--> 355\u001b[1;33m             \u001b[0mobj\u001b[0m\u001b[1;33m,\u001b[0m \u001b[0mend\u001b[0m \u001b[1;33m=\u001b[0m \u001b[0mself\u001b[0m\u001b[1;33m.\u001b[0m\u001b[0mscan_once\u001b[0m\u001b[1;33m(\u001b[0m\u001b[0ms\u001b[0m\u001b[1;33m,\u001b[0m \u001b[0midx\u001b[0m\u001b[1;33m)\u001b[0m\u001b[1;33m\u001b[0m\u001b[1;33m\u001b[0m\u001b[0m\n\u001b[0m\u001b[0;32m    356\u001b[0m         \u001b[1;32mexcept\u001b[0m \u001b[0mStopIteration\u001b[0m \u001b[1;32mas\u001b[0m \u001b[0merr\u001b[0m\u001b[1;33m:\u001b[0m\u001b[1;33m\u001b[0m\u001b[1;33m\u001b[0m\u001b[0m\n\u001b[0;32m    357\u001b[0m             \u001b[1;32mraise\u001b[0m \u001b[0mJSONDecodeError\u001b[0m\u001b[1;33m(\u001b[0m\u001b[1;34m\"Expecting value\"\u001b[0m\u001b[1;33m,\u001b[0m \u001b[0ms\u001b[0m\u001b[1;33m,\u001b[0m \u001b[0merr\u001b[0m\u001b[1;33m.\u001b[0m\u001b[0mvalue\u001b[0m\u001b[1;33m)\u001b[0m \u001b[1;32mfrom\u001b[0m \u001b[1;32mNone\u001b[0m\u001b[1;33m\u001b[0m\u001b[1;33m\u001b[0m\u001b[0m\n",
      "\u001b[1;31mKeyboardInterrupt\u001b[0m: "
     ]
    }
   ],
   "source": [
    "mus_df = load_json(data_path[\"music\"])"
   ]
  },
  {
   "cell_type": "code",
   "execution_count": null,
   "metadata": {
    "collapsed": true
   },
   "outputs": [],
   "source": [
    "mus_df.head()"
   ]
  },
  {
   "cell_type": "code",
   "execution_count": 47,
   "metadata": {},
   "outputs": [
    {
     "data": {
      "text/plain": [
       "90.183315466328821"
      ]
     },
     "execution_count": 47,
     "metadata": {},
     "output_type": "execute_result"
    },
    {
     "data": {
      "image/png": "[encoded data removed]",
      "text/plain": [
       "<matplotlib.figure.Figure at 0x256aa339c88>"
      ]
     },
     "metadata": {},
     "output_type": "display_data"
    }
   ],
   "source": [
    "lens = review_len(mus_df)\n",
    "plt.hist(lens, range=(0, 750))\n",
    "np.mean(lens)"
   ]
  },
  {
   "cell_type": "markdown",
   "metadata": {},
   "source": [
    "## Предобработка\n",
    "* Перевод в нижний регистр\n",
    "* Удаление ненужных символов\n",
    "* Удаление стоп-слов\n",
    "* Удаление токенов короче 3 символов\n",
    "\n",
    "Без лемматизации и стемминга"
   ]
  },
  {
   "cell_type": "code",
   "execution_count": 4,
   "metadata": {
    "collapsed": true
   },
   "outputs": [],
   "source": [
    "from nltk.corpus import stopwords\n",
    "from nltk import word_tokenize\n",
    "from string import punctuation\n",
    "import re\n",
    "\n",
    "class Preprocessor:\n",
    "    \n",
    "    def __init__(self):\n",
    "        self.stopwords = stopwords.words(\"english\")\n",
    "        self.to_drop = self.stopwords + list(punctuation) + list(\"0123456789“\")\n",
    "        \n",
    "    def preprocess(self, text: str) -> str:\n",
    "        # Lowercase conversion\n",
    "        new_text = text.lower()\n",
    "        new_text = re.sub(\"\\.(?=\\S)\", \" . \", new_text)\n",
    "        tokens = word_tokenize(new_text)\n",
    "        tokens = list(filter(lambda a: a not in self.to_drop and len(a) >= 3, tokens))\n",
    "        return \" \".join(tokens)\n",
    "        \n",
    "    "
   ]
  },
  {
   "cell_type": "code",
   "execution_count": 5,
   "metadata": {},
   "outputs": [
    {
     "data": {
      "text/plain": [
       "'one way would split document words white space split whitespace use string translation replace punctuation nothing remove'"
      ]
     },
     "execution_count": 5,
     "metadata": {},
     "output_type": "execute_result"
    }
   ],
   "source": [
    "def test_pp():\n",
    "    test_str = \"One way would be to split the document into words by white space \\\n",
    "    (as in “2. Split by Whitespace“), then use string translation to replace all \\\n",
    "    punctuation with nothing (e.g. remove it).\"\n",
    "    p = Preprocessor()\n",
    "    return p.preprocess(test_str)\n",
    "\n",
    "test_pp()"
   ]
  },
  {
   "cell_type": "code",
   "execution_count": 5,
   "metadata": {
    "collapsed": true
   },
   "outputs": [],
   "source": [
    "# Preprocessing the dataframe\n",
    "def preprocess_df(df: pd.DataFrame, merge_summary=False) -> pd.DataFrame:\n",
    "    \"\"\"\n",
    "    If 'merge_summary' is True, merges 'Summary' column into 'reviewText'\n",
    "    \"\"\"\n",
    "    p = Preprocessor()\n",
    "    reviews = list(map(p.preprocess, df[\"reviewText\"]))\n",
    "    summaries = list(map(p.preprocess, df[\"summary\"]))\n",
    "    new_df = df.copy()\n",
    "    new_df[\"reviewText\"] = reviews\n",
    "    new_df[\"summary\"] = summaries\n",
    "    if merge_summary:\n",
    "        new_df[\"reviewText\"] += \" \" + new_df[\"summary\"]\n",
    "    return new_df\n",
    "\n",
    "# preprocess_df(mus_df[:5])[\"reviewText\"].values"
   ]
  },
  {
   "cell_type": "code",
   "execution_count": 102,
   "metadata": {
    "collapsed": true
   },
   "outputs": [],
   "source": [
    "# Now reviewText contains summary as well\n",
    "# We can work only with this column\n",
    "mus_df = preprocess_df(mus_df, merge_summary=True)"
   ]
  },
  {
   "cell_type": "code",
   "execution_count": 112,
   "metadata": {},
   "outputs": [
    {
     "data": {
      "text/html": [
       "<div>\n",
       "<style>\n",
       "    .dataframe thead tr:only-child th {\n",
       "        text-align: right;\n",
       "    }\n",
       "\n",
       "    .dataframe thead th {\n",
       "        text-align: left;\n",
       "    }\n",
       "\n",
       "    .dataframe tbody tr th {\n",
       "        vertical-align: top;\n",
       "    }\n",
       "</style>\n",
       "<table border=\"1\" class=\"dataframe\">\n",
       "  <thead>\n",
       "    <tr style=\"text-align: right;\">\n",
       "      <th></th>\n",
       "      <th>helpful</th>\n",
       "      <th>reviewText</th>\n",
       "      <th>summary</th>\n",
       "      <th>overall</th>\n",
       "    </tr>\n",
       "  </thead>\n",
       "  <tbody>\n",
       "    <tr>\n",
       "      <th>10256</th>\n",
       "      <td>[0, 0]</td>\n",
       "      <td>great expected thank five stars</td>\n",
       "      <td>five stars</td>\n",
       "      <td>5.0</td>\n",
       "    </tr>\n",
       "    <tr>\n",
       "      <th>10257</th>\n",
       "      <td>[0, 0]</td>\n",
       "      <td>'ve thinking trying nanoweb strings bit put hi...</td>\n",
       "      <td>long life players good economic choice</td>\n",
       "      <td>5.0</td>\n",
       "    </tr>\n",
       "    <tr>\n",
       "      <th>10258</th>\n",
       "      <td>[0, 0]</td>\n",
       "      <td>tried coated strings past including elixirs ne...</td>\n",
       "      <td>good coated</td>\n",
       "      <td>4.0</td>\n",
       "    </tr>\n",
       "    <tr>\n",
       "      <th>10259</th>\n",
       "      <td>[0, 0]</td>\n",
       "      <td>well made elixir developed taylor guitars stri...</td>\n",
       "      <td>taylor made</td>\n",
       "      <td>4.0</td>\n",
       "    </tr>\n",
       "    <tr>\n",
       "      <th>10260</th>\n",
       "      <td>[0, 0]</td>\n",
       "      <td>strings really quite good would n't call perfe...</td>\n",
       "      <td>strings really quite good would n't call perfect</td>\n",
       "      <td>4.0</td>\n",
       "    </tr>\n",
       "  </tbody>\n",
       "</table>\n",
       "</div>"
      ],
      "text/plain": [
       "      helpful                                         reviewText  \\\n",
       "10256  [0, 0]                    great expected thank five stars   \n",
       "10257  [0, 0]  've thinking trying nanoweb strings bit put hi...   \n",
       "10258  [0, 0]  tried coated strings past including elixirs ne...   \n",
       "10259  [0, 0]  well made elixir developed taylor guitars stri...   \n",
       "10260  [0, 0]  strings really quite good would n't call perfe...   \n",
       "\n",
       "                                                summary  overall  \n",
       "10256                                        five stars      5.0  \n",
       "10257            long life players good economic choice      5.0  \n",
       "10258                                       good coated      4.0  \n",
       "10259                                       taylor made      4.0  \n",
       "10260  strings really quite good would n't call perfect      4.0  "
      ]
     },
     "execution_count": 112,
     "metadata": {},
     "output_type": "execute_result"
    }
   ],
   "source": [
    "mus_df.tail()"
   ]
  },
  {
   "cell_type": "markdown",
   "metadata": {},
   "source": [
    "Теперь все то же самое проделываем с датасетом из домена автомобилей"
   ]
  },
  {
   "cell_type": "code",
   "execution_count": 111,
   "metadata": {},
   "outputs": [
    {
     "data": {
      "text/plain": [
       "85.348752014848827"
      ]
     },
     "execution_count": 111,
     "metadata": {},
     "output_type": "execute_result"
    },
    {
     "data": {
      "image/png": "[encoded data removed]",
      "text/plain": [
       "<matplotlib.figure.Figure at 0x256adda4080>"
      ]
     },
     "metadata": {},
     "output_type": "display_data"
    }
   ],
   "source": [
    "auto_df = load_json(data_path[\"auto\"])\n",
    "lens = review_len(auto_df)\n",
    "plt.hist(lens, range=(0, 750))\n",
    "np.mean(lens)"
   ]
  },
  {
   "cell_type": "code",
   "execution_count": 114,
   "metadata": {
    "collapsed": true
   },
   "outputs": [],
   "source": [
    "auto_df = preprocess_df(auto_df, merge_summary=True)"
   ]
  },
  {
   "cell_type": "markdown",
   "metadata": {},
   "source": [
    "## Создание векторной модели\n",
    "Для word embedding используется word2vec"
   ]
  },
  {
   "cell_type": "code",
   "execution_count": 6,
   "metadata": {},
   "outputs": [
    {
     "name": "stderr",
     "output_type": "stream",
     "text": [
      "C:\\ProgramData\\Anaconda3\\lib\\site-packages\\gensim\\utils.py:1197: UserWarning: detected Windows; aliasing chunkize to chunkize_serial\n",
      "  warnings.warn(\"detected Windows; aliasing chunkize to chunkize_serial\")\n"
     ]
    }
   ],
   "source": [
    "from gensim.models import Word2Vec\n",
    "\n",
    "def train_w2v_model(dfs: list) -> Word2Vec:\n",
    "    data = []\n",
    "    for df in dfs:\n",
    "        data += list(map(str.split, df[\"reviewText\"].values))\n",
    "    model = Word2Vec(sentences=data, size=128, min_count=3)\n",
    "    model.train(data, total_examples=len(data), epochs=50)\n",
    "    return model"
   ]
  },
  {
   "cell_type": "code",
   "execution_count": 179,
   "metadata": {
    "collapsed": true
   },
   "outputs": [],
   "source": [
    "w2v = train_w2v_model([mus_df, auto_df])"
   ]
  },
  {
   "cell_type": "code",
   "execution_count": 180,
   "metadata": {},
   "outputs": [
    {
     "data": {
      "text/plain": [
       "((10261, 4), (20473, 4))"
      ]
     },
     "execution_count": 180,
     "metadata": {},
     "output_type": "execute_result"
    }
   ],
   "source": [
    "mus_df.shape, auto_df.shape"
   ]
  },
  {
   "cell_type": "code",
   "execution_count": 181,
   "metadata": {},
   "outputs": [
    {
     "data": {
      "text/plain": [
       "(16894, 128)"
      ]
     },
     "execution_count": 181,
     "metadata": {},
     "output_type": "execute_result"
    }
   ],
   "source": [
    "w2v.wv.vectors.shape"
   ]
  },
  {
   "cell_type": "code",
   "execution_count": 182,
   "metadata": {
    "collapsed": true
   },
   "outputs": [],
   "source": [
    "w2v.save(\"./mus_auto.w2v\")"
   ]
  },
  {
   "cell_type": "markdown",
   "metadata": {},
   "source": [
    "Сохраним векторы, чтобы в будущем работать только с ними"
   ]
  },
  {
   "cell_type": "code",
   "execution_count": 7,
   "metadata": {
    "collapsed": true
   },
   "outputs": [],
   "source": [
    "def create_vectors(df: pd.DataFrame, model: Word2Vec) -> pd.DataFrame:\n",
    "    res = {\n",
    "        \"vectors\": [],\n",
    "        \"overall\": [],\n",
    "    }\n",
    "    for i in df.index:\n",
    "        tokens = df.loc[i, \"reviewText\"].split()\n",
    "        vec_lst = []\n",
    "        for word in tokens:\n",
    "            try:\n",
    "                vec_lst.append(list(model.wv.get_vector(word)))\n",
    "            except KeyError:\n",
    "                pass\n",
    "        res[\"vectors\"].append(vec_lst)\n",
    "        res[\"overall\"].append(df.loc[i, \"overall\"])\n",
    "    # Also adding the target variable\n",
    "    return pd.DataFrame(res)"
   ]
  },
  {
   "cell_type": "code",
   "execution_count": 219,
   "metadata": {
    "collapsed": true
   },
   "outputs": [],
   "source": [
    "mus_vectors = create_vectors(mus_df, w2v)\n",
    "mus_vectors.to_csv(\"../data/mus_vectors.csv\", sep=\"\\t\", index=False)"
   ]
  },
  {
   "cell_type": "code",
   "execution_count": 220,
   "metadata": {
    "collapsed": true
   },
   "outputs": [],
   "source": [
    "auto_vectors = create_vectors(auto_df, w2v)\n",
    "auto_vectors.to_csv(\"../data/auto_vectors.csv\", sep=\"\\t\", index=False)"
   ]
  },
  {
   "cell_type": "markdown",
   "metadata": {},
   "source": [
    "### Датасеты Movies и Electronics\n",
    "Для полной загрузки этих таблиц не хватает памяти, поэтому обработка построчная"
   ]
  },
  {
   "cell_type": "markdown",
   "metadata": {},
   "source": [
    "Нужно два раза пройтись по текстам: первый раз, чтобы обучить модель w2v, а второй - чтобы создать векторы"
   ]
  },
  {
   "cell_type": "code",
   "execution_count": 8,
   "metadata": {
    "collapsed": true
   },
   "outputs": [],
   "source": [
    "def create_vectors_from_file(pp_file: str, \n",
    "                   vector_file: str, \n",
    "                   w2v_file: str, \n",
    "                   batch_size=1000, \n",
    "                   vector_size=128):\n",
    "    w2v = Word2Vec.load(w2v_file)\n",
    "    vector_fp = open(vector_file, \"w\")\n",
    "    header = True\n",
    "    for num, batch in enumerate(pd.read_csv(pp_file, sep=\"\\t\", chunksize=batch_size)):\n",
    "        clear_output(True)\n",
    "        display(\"Creating vectors\")\n",
    "        display(\"Processing batch {}\".format(num + 1))\n",
    "        vector_batch = create_vectors(batch, w2v)\n",
    "        vector_batch.to_csv(vector_fp, header=header, sep=\"\\t\", index=False)\n",
    "        header = False"
   ]
  },
  {
   "cell_type": "code",
   "execution_count": 9,
   "metadata": {
    "collapsed": true
   },
   "outputs": [],
   "source": [
    "def process_file(raw_data_file: str,\n",
    "                 vector_file: str,\n",
    "                 pp_backup_file: str,\n",
    "                 w2v_model_file: str,\n",
    "                 create_w2v=False,\n",
    "                 columns=[\"reviewText\", \"summary\", \"overall\"], \n",
    "                 batch_size=1000,\n",
    "                 vector_size=128,):\n",
    "    data_gen = batch_generator(raw_data_file, columns, batch_size)\n",
    "    if create_w2v:\n",
    "        w2v = Word2Vec(size=vector_size, min_count=3)\n",
    "    else:\n",
    "        w2v = Word2Vec.load(w2v_model_file)\n",
    "    header = True\n",
    "    pp_file = open(pp_backup_file, \"w\")\n",
    "    # Первый проход\n",
    "    for num, batch in enumerate(data_gen):\n",
    "        # Предобработка\n",
    "        clear_output(True)\n",
    "        display(\"Preprocessing and w2v training\")\n",
    "        display(\"Processing batch {}\".format(num + 1))\n",
    "        pp_batch = preprocess_df(batch, merge_summary=True)\n",
    "        pp_batch.to_csv(pp_file, header=header, sep=\"\\t\", index=False)\n",
    "        if header and create_w2v:\n",
    "            # Признак первого батча \n",
    "            header = False\n",
    "            w2v.build_vocab(pp_batch[\"reviewText\"].values, update=False)\n",
    "            w2v.train(pp_batch[\"reviewText\"].values, total_examples=len(pp_batch[\"reviewText\"]), epochs=20)\n",
    "        # Обучение модели w2v\n",
    "        w2v.build_vocab(pp_batch[\"reviewText\"].values, update=True)\n",
    "        w2v.train(pp_batch[\"reviewText\"].values, total_examples=len(pp_batch[\"reviewText\"]), epochs=20)\n",
    "    w2v.save(w2v_model_file)\n",
    "    # Второй проход\n",
    "#     vector_file = open(vector_file, \"w\")\n",
    "#     header = True\n",
    "#     for num, batch in enumerate(pd.read_csv(pp_backup_file, sep=\"\\t\", chunksize=batch_size)):\n",
    "#         clear_output(True)\n",
    "#         display(\"Creating vectors\")\n",
    "#         display(\"Processing batch {}\".format(num + 1))\n",
    "#         vector_batch = create_vectors(batch, w2v)\n",
    "#         vector_batch.to_csv(vector_file, header=header, sep=\"\\t\", index=False)\n",
    "        "
   ]
  },
  {
   "cell_type": "code",
   "execution_count": 10,
   "metadata": {
    "collapsed": true
   },
   "outputs": [],
   "source": [
    "columns = [\"reviewText\", \"summary\", \"overall\"]\n",
    "batch_size = 1000\n",
    "vector_size = 128\n",
    "w2v_file = \"./w2v_movies_electr.model\"\n",
    "\n",
    "electr_pp_file = os.path.join(\"..\", \"data\", \"electr_pp.csv\")\n",
    "movies_pp_file = os.path.join(\"..\", \"data\", \"movies_pp.csv\")\n",
    "\n",
    "electr_vec_file = os.path.join(\"..\", \"data\", \"electr_vectors.csv\")\n",
    "movies_vec_file = os.path.join(\"..\", \"data\", \"electr_vectors.csv\")"
   ]
  },
  {
   "cell_type": "markdown",
   "metadata": {},
   "source": [
    "Предобработка и обучение w2v"
   ]
  },
  {
   "cell_type": "code",
   "execution_count": 13,
   "metadata": {},
   "outputs": [
    {
     "data": {
      "text/plain": [
       "'Preprocessing and w2v training'"
      ]
     },
     "metadata": {},
     "output_type": "display_data"
    },
    {
     "data": {
      "text/plain": [
       "'Processing batch 1690'"
      ]
     },
     "metadata": {},
     "output_type": "display_data"
    },
    {
     "name": "stdout",
     "output_type": "stream",
     "text": [
      "Wall time: 1h 37min 26s\n"
     ]
    }
   ],
   "source": [
    "%%time\n",
    "process_file(raw_data_file=data_path[\"electr\"], \n",
    "             vector_file=electr_vec_file, \n",
    "             pp_backup_file=electr_pp_file,\n",
    "             w2v_model_file=w2v_file,\n",
    "             create_w2v=True,\n",
    "             columns=columns, \n",
    "             batch_size=batch_size, \n",
    "             vector_size=vector_size)"
   ]
  },
  {
   "cell_type": "code",
   "execution_count": 11,
   "metadata": {},
   "outputs": [
    {
     "data": {
      "text/plain": [
       "'Preprocessing and w2v training'"
      ]
     },
     "metadata": {},
     "output_type": "display_data"
    },
    {
     "data": {
      "text/plain": [
       "'Processing batch 1698'"
      ]
     },
     "metadata": {},
     "output_type": "display_data"
    },
    {
     "name": "stdout",
     "output_type": "stream",
     "text": [
      "Wall time: 2h 18min 26s\n"
     ]
    }
   ],
   "source": [
    "%%time\n",
    "process_file(raw_data_file=data_path[\"movies\"], \n",
    "             vector_file=movies_vec_file, \n",
    "             pp_backup_file=movies_pp_file,\n",
    "             w2v_model_file=w2v_file,\n",
    "             create_w2v=False,\n",
    "             columns=columns, \n",
    "             batch_size=batch_size, \n",
    "             vector_size=vector_size,) \n"
   ]
  },
  {
   "cell_type": "markdown",
   "metadata": {},
   "source": [
    "Создание векторов"
   ]
  },
  {
   "cell_type": "code",
   "execution_count": 12,
   "metadata": {},
   "outputs": [
    {
     "data": {
      "text/plain": [
       "'Creating vectors'"
      ]
     },
     "metadata": {},
     "output_type": "display_data"
    },
    {
     "data": {
      "text/plain": [
       "'Processing batch 338'"
      ]
     },
     "metadata": {},
     "output_type": "display_data"
    },
    {
     "name": "stdout",
     "output_type": "stream",
     "text": [
      "Wall time: 2min 59s\n"
     ]
    }
   ],
   "source": [
    "%%time\n",
    "create_vectors_from_file(pp_file=electr_pp_file, \n",
    "               vector_file=electr_vec_file, \n",
    "               w2v_file=w2v_file, \n",
    "               batch_size=5000)"
   ]
  },
  {
   "cell_type": "code",
   "execution_count": 13,
   "metadata": {},
   "outputs": [
    {
     "data": {
      "text/plain": [
       "'Creating vectors'"
      ]
     },
     "metadata": {},
     "output_type": "display_data"
    },
    {
     "data": {
      "text/plain": [
       "'Processing batch 340'"
      ]
     },
     "metadata": {},
     "output_type": "display_data"
    },
    {
     "name": "stdout",
     "output_type": "stream",
     "text": [
      "Wall time: 3min 48s\n"
     ]
    }
   ],
   "source": [
    "%%time\n",
    "create_vectors_from_file(pp_file=movies_pp_file, \n",
    "               vector_file=movies_vec_file, \n",
    "               w2v_file=w2v_file, \n",
    "               batch_size=5000)"
   ]
  },
  {
   "cell_type": "code",
   "execution_count": null,
   "metadata": {
    "collapsed": true
   },
   "outputs": [],
   "source": []
  }
 ],
 "metadata": {
  "kernelspec": {
   "display_name": "Python 3",
   "language": "python",
   "name": "python3"
  },
  "language_info": {
   "codemirror_mode": {
    "name": "ipython",
    "version": 3
   },
   "file_extension": ".py",
   "mimetype": "text/x-python",
   "name": "python",
   "nbconvert_exporter": "python",
   "pygments_lexer": "ipython3",
   "version": "3.6.7"
  }
 },
 "nbformat": 4,
 "nbformat_minor": 2
}
