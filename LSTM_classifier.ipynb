{
 "cells": [
  {
   "cell_type": "code",
   "execution_count": 2,
   "metadata": {},
   "outputs": [],
   "source": [
    "%load_ext autoreload\n",
    "%autoreload 2"
   ]
  },
  {
   "cell_type": "code",
   "execution_count": 218,
   "metadata": {},
   "outputs": [],
   "source": [
    "import tensorflow as tf\n",
    "import pandas as pd\n",
    "import numpy as np\n",
    "from IPython.display import display, clear_output\n",
    "from keras.models import Sequential\n",
    "from keras.layers import LSTM, Dense\n",
    "from sklearn.model_selection import train_test_split\n",
    "from sklearn.metrics import balanced_accuracy_score, accuracy_score\n",
    "\n",
    "from utils import load_vectors, rnd_labeled_data_generator, test_data_generator, conseq_labeled_data_generator"
   ]
  },
  {
   "cell_type": "markdown",
   "metadata": {},
   "source": [
    "Загружаем векторы"
   ]
  },
  {
   "cell_type": "code",
   "execution_count": 4,
   "metadata": {},
   "outputs": [],
   "source": [
    "vectors = {\n",
    "    \"auto\": \"../data/auto_vectors.csv\",\n",
    "    \"mus\": \"../data/mus_vectors.csv\"\n",
    "}"
   ]
  },
  {
   "cell_type": "code",
   "execution_count": 5,
   "metadata": {
    "scrolled": true
   },
   "outputs": [
    {
     "data": {
      "text/plain": [
       "'Reading line 20473'"
      ]
     },
     "metadata": {},
     "output_type": "display_data"
    },
    {
     "name": "stdout",
     "output_type": "stream",
     "text": [
      "Wall time: 7min 11s\n"
     ]
    }
   ],
   "source": [
    "%%time\n",
    "auto_df = load_vectors(vectors[\"auto\"], manually=True)"
   ]
  },
  {
   "cell_type": "code",
   "execution_count": 204,
   "metadata": {},
   "outputs": [
    {
     "data": {
      "text/html": [
       "<div>\n",
       "<style scoped>\n",
       "    .dataframe tbody tr th:only-of-type {\n",
       "        vertical-align: middle;\n",
       "    }\n",
       "\n",
       "    .dataframe tbody tr th {\n",
       "        vertical-align: top;\n",
       "    }\n",
       "\n",
       "    .dataframe thead th {\n",
       "        text-align: right;\n",
       "    }\n",
       "</style>\n",
       "<table border=\"1\" class=\"dataframe\">\n",
       "  <thead>\n",
       "    <tr style=\"text-align: right;\">\n",
       "      <th></th>\n",
       "      <th>vectors</th>\n",
       "      <th>target</th>\n",
       "    </tr>\n",
       "    <tr>\n",
       "      <th>overall</th>\n",
       "      <th></th>\n",
       "      <th></th>\n",
       "    </tr>\n",
       "  </thead>\n",
       "  <tbody>\n",
       "    <tr>\n",
       "      <th>1.0</th>\n",
       "      <td>542</td>\n",
       "      <td>542</td>\n",
       "    </tr>\n",
       "    <tr>\n",
       "      <th>2.0</th>\n",
       "      <td>606</td>\n",
       "      <td>606</td>\n",
       "    </tr>\n",
       "    <tr>\n",
       "      <th>3.0</th>\n",
       "      <td>1430</td>\n",
       "      <td>1430</td>\n",
       "    </tr>\n",
       "    <tr>\n",
       "      <th>4.0</th>\n",
       "      <td>3967</td>\n",
       "      <td>3967</td>\n",
       "    </tr>\n",
       "    <tr>\n",
       "      <th>5.0</th>\n",
       "      <td>13928</td>\n",
       "      <td>13928</td>\n",
       "    </tr>\n",
       "  </tbody>\n",
       "</table>\n",
       "</div>"
      ],
      "text/plain": [
       "         vectors  target\n",
       "overall                 \n",
       "1.0          542     542\n",
       "2.0          606     606\n",
       "3.0         1430    1430\n",
       "4.0         3967    3967\n",
       "5.0        13928   13928"
      ]
     },
     "execution_count": 204,
     "metadata": {},
     "output_type": "execute_result"
    }
   ],
   "source": [
    "auto_df.groupby(\"overall\").count()"
   ]
  },
  {
   "cell_type": "markdown",
   "metadata": {},
   "source": [
    "Классификация с 5 категориями, не бинарная"
   ]
  },
  {
   "cell_type": "code",
   "execution_count": 8,
   "metadata": {},
   "outputs": [],
   "source": [
    "auto_df[\"target\"] = pd.get_dummies(auto_df[\"overall\"]).values.tolist()\n",
    "auto_df[\"target\"] = auto_df[\"target\"].apply(np.array)"
   ]
  },
  {
   "cell_type": "code",
   "execution_count": 9,
   "metadata": {},
   "outputs": [
    {
     "data": {
      "text/html": [
       "<div>\n",
       "<style scoped>\n",
       "    .dataframe tbody tr th:only-of-type {\n",
       "        vertical-align: middle;\n",
       "    }\n",
       "\n",
       "    .dataframe tbody tr th {\n",
       "        vertical-align: top;\n",
       "    }\n",
       "\n",
       "    .dataframe thead th {\n",
       "        text-align: right;\n",
       "    }\n",
       "</style>\n",
       "<table border=\"1\" class=\"dataframe\">\n",
       "  <thead>\n",
       "    <tr style=\"text-align: right;\">\n",
       "      <th></th>\n",
       "      <th>overall</th>\n",
       "      <th>vectors</th>\n",
       "      <th>target</th>\n",
       "    </tr>\n",
       "  </thead>\n",
       "  <tbody>\n",
       "    <tr>\n",
       "      <th>0</th>\n",
       "      <td>5.0</td>\n",
       "      <td>[[-0.67167366, 1.4340448, 0.70772099, 0.267104...</td>\n",
       "      <td>[0, 0, 0, 0, 1]</td>\n",
       "    </tr>\n",
       "    <tr>\n",
       "      <th>1</th>\n",
       "      <td>4.0</td>\n",
       "      <td>[[-3.4646065, 0.90924335, 0.051792312, -0.0250...</td>\n",
       "      <td>[0, 0, 0, 1, 0]</td>\n",
       "    </tr>\n",
       "    <tr>\n",
       "      <th>2</th>\n",
       "      <td>5.0</td>\n",
       "      <td>[[-0.34402627, -1.2019368, 0.49981338, -1.2384...</td>\n",
       "      <td>[0, 0, 0, 0, 1]</td>\n",
       "    </tr>\n",
       "    <tr>\n",
       "      <th>3</th>\n",
       "      <td>5.0</td>\n",
       "      <td>[[-1.187706, 0.5451839, 1.5461149, -0.60059845...</td>\n",
       "      <td>[0, 0, 0, 0, 1]</td>\n",
       "    </tr>\n",
       "    <tr>\n",
       "      <th>4</th>\n",
       "      <td>5.0</td>\n",
       "      <td>[[-0.78727818, 1.2093724, -2.3347111, -2.42030...</td>\n",
       "      <td>[0, 0, 0, 0, 1]</td>\n",
       "    </tr>\n",
       "  </tbody>\n",
       "</table>\n",
       "</div>"
      ],
      "text/plain": [
       "   overall                                            vectors           target\n",
       "0      5.0  [[-0.67167366, 1.4340448, 0.70772099, 0.267104...  [0, 0, 0, 0, 1]\n",
       "1      4.0  [[-3.4646065, 0.90924335, 0.051792312, -0.0250...  [0, 0, 0, 1, 0]\n",
       "2      5.0  [[-0.34402627, -1.2019368, 0.49981338, -1.2384...  [0, 0, 0, 0, 1]\n",
       "3      5.0  [[-1.187706, 0.5451839, 1.5461149, -0.60059845...  [0, 0, 0, 0, 1]\n",
       "4      5.0  [[-0.78727818, 1.2093724, -2.3347111, -2.42030...  [0, 0, 0, 0, 1]"
      ]
     },
     "execution_count": 9,
     "metadata": {},
     "output_type": "execute_result"
    }
   ],
   "source": [
    "auto_df.head()"
   ]
  },
  {
   "cell_type": "markdown",
   "metadata": {},
   "source": [
    "Если делать zero-padding, очень быстро возникает MemoryError. Лучше учить по одному сэмплу"
   ]
  },
  {
   "cell_type": "code",
   "execution_count": 5,
   "metadata": {
    "collapsed": true
   },
   "outputs": [],
   "source": [
    "def max_len_padding(list_of_matrices):\n",
    "    pairwise_len_max = lambda a, b: max(len(a), len(b))\n",
    "    max_len = max([i.shape[0] for i in list_of_matrices])\n",
    "    return max_len\n",
    "\n",
    "def pad_by_zero_seqs_generator(list_of_matrices, y_list, timesteps, batch_size):\n",
    "#     max_len = timesteps\n",
    "#     aligned = [np.pad(i, ((0, max_len - i.shape[0]), (0, 0)), \"constant\", constant_values=0.0) for i in list_of_matrices]\n",
    "#     aligned = np.array(aligned)\n",
    "    while True:\n",
    "        indices = np.random.choice(np.arange(len(list_of_matrices)), size=[batch_size])\n",
    "        x = np.array(list_of_matrices)[indices]\n",
    "        x = [np.pad(i, ((0, timesteps - i.shape[0]), (0, 0)), \"constant\", constant_values=0.0) for i in x]\n",
    "        x = np.array(x)\n",
    "        y = np.array(y_list)[indices].reshape([1, 1, 1])\n",
    "        yield x, y"
   ]
  },
  {
   "cell_type": "code",
   "execution_count": 136,
   "metadata": {
    "collapsed": true
   },
   "outputs": [],
   "source": [
    "X_train, X_test, y_train, y_test = train_test_split(auto_df[\"vectors\"].values, auto_df[\"target\"].values, test_size=0.3)"
   ]
  },
  {
   "cell_type": "code",
   "execution_count": 137,
   "metadata": {
    "collapsed": true
   },
   "outputs": [],
   "source": [
    "y_test = np.dstack(y_test)[0].T\n",
    "y_train = np.dstack(y_train)[0].T"
   ]
  },
  {
   "cell_type": "code",
   "execution_count": 33,
   "metadata": {
    "collapsed": true
   },
   "outputs": [],
   "source": [
    "from keras.models import Sequential\n",
    "from keras.layers import LSTM, Dense"
   ]
  },
  {
   "cell_type": "code",
   "execution_count": 288,
   "metadata": {},
   "outputs": [
    {
     "name": "stdout",
     "output_type": "stream",
     "text": [
      "Epoch 1/150\n",
      "30/30 [==============================] - 10s 333ms/step - loss: 0.7199 - acc: 0.4738 - val_loss: 0.6901 - val_acc: 0.5435\n",
      "Epoch 2/150\n",
      "30/30 [==============================] - 1s 44ms/step - loss: 0.6796 - acc: 0.5809 - val_loss: 0.6700 - val_acc: 0.5939\n",
      "Epoch 3/150\n",
      "30/30 [==============================] - 2s 59ms/step - loss: 0.6553 - acc: 0.6412 - val_loss: 0.6400 - val_acc: 0.6688\n",
      "Epoch 4/150\n",
      "30/30 [==============================] - 2s 66ms/step - loss: 0.6339 - acc: 0.6853 - val_loss: 0.6242 - val_acc: 0.7044\n",
      "Epoch 5/150\n",
      "30/30 [==============================] - 2s 65ms/step - loss: 0.6150 - acc: 0.7298 - val_loss: 0.6061 - val_acc: 0.7472\n",
      "Epoch 6/150\n",
      "30/30 [==============================] - 1s 36ms/step - loss: 0.5901 - acc: 0.7802 - val_loss: 0.5869 - val_acc: 0.7797\n",
      "Epoch 7/150\n",
      "30/30 [==============================] - 1s 47ms/step - loss: 0.5514 - acc: 0.8308 - val_loss: 0.5737 - val_acc: 0.7894\n",
      "Epoch 8/150\n",
      "30/30 [==============================] - 2s 71ms/step - loss: 0.5620 - acc: 0.8054 - val_loss: 0.5508 - val_acc: 0.8240\n",
      "Epoch 9/150\n",
      "30/30 [==============================] - 1s 47ms/step - loss: 0.5297 - acc: 0.8538 - val_loss: 0.5471 - val_acc: 0.8168\n",
      "Epoch 10/150\n",
      "30/30 [==============================] - 2s 55ms/step - loss: 0.5318 - acc: 0.8365 - val_loss: 0.5214 - val_acc: 0.8497\n",
      "Epoch 11/150\n",
      "30/30 [==============================] - 2s 53ms/step - loss: 0.5215 - acc: 0.8435 - val_loss: 0.5249 - val_acc: 0.8213\n",
      "Epoch 12/150\n",
      "30/30 [==============================] - 2s 59ms/step - loss: 0.5318 - acc: 0.8063 - val_loss: 0.4921 - val_acc: 0.8710\n",
      "Epoch 13/150\n",
      "30/30 [==============================] - 1s 44ms/step - loss: 0.5012 - acc: 0.8346 - val_loss: 0.5030 - val_acc: 0.8371\n",
      "Epoch 14/150\n",
      "30/30 [==============================] - 1s 41ms/step - loss: 0.5237 - acc: 0.8110 - val_loss: 0.4866 - val_acc: 0.8575\n",
      "Epoch 15/150\n",
      "30/30 [==============================] - 2s 54ms/step - loss: 0.5070 - acc: 0.8121 - val_loss: 0.4871 - val_acc: 0.8414\n",
      "Epoch 16/150\n",
      "30/30 [==============================] - 1s 46ms/step - loss: 0.4613 - acc: 0.8740 - val_loss: 0.4764 - val_acc: 0.8464\n",
      "Epoch 17/150\n",
      "30/30 [==============================] - 2s 51ms/step - loss: 0.4190 - acc: 0.9186 - val_loss: 0.4704 - val_acc: 0.8537\n",
      "Epoch 18/150\n",
      "30/30 [==============================] - 1s 37ms/step - loss: 0.4386 - acc: 0.8877 - val_loss: 0.4710 - val_acc: 0.8321\n",
      "Epoch 19/150\n",
      "30/30 [==============================] - 1s 44ms/step - loss: 0.4240 - acc: 0.9004 - val_loss: 0.4234 - val_acc: 0.8839\n",
      "Epoch 20/150\n",
      "30/30 [==============================] - 1s 47ms/step - loss: 0.4344 - acc: 0.8610 - val_loss: 0.4625 - val_acc: 0.8390\n",
      "Epoch 21/150\n",
      "30/30 [==============================] - 1s 41ms/step - loss: 0.3784 - acc: 0.9319 - val_loss: 0.4330 - val_acc: 0.8562\n",
      "Epoch 22/150\n",
      "30/30 [==============================] - 2s 51ms/step - loss: 0.4559 - acc: 0.8327 - val_loss: 0.4033 - val_acc: 0.8903\n",
      "Epoch 23/150\n",
      "30/30 [==============================] - 1s 44ms/step - loss: 0.4120 - acc: 0.8748 - val_loss: 0.4149 - val_acc: 0.8717\n",
      "Epoch 24/150\n",
      "30/30 [==============================] - 1s 41ms/step - loss: 0.4452 - acc: 0.8266 - val_loss: 0.4151 - val_acc: 0.8609\n",
      "Epoch 25/150\n",
      "30/30 [==============================] - 1s 37ms/step - loss: 0.4728 - acc: 0.8076 - val_loss: 0.3933 - val_acc: 0.8853\n",
      "Epoch 26/150\n",
      "30/30 [==============================] - 1s 44ms/step - loss: 0.3999 - acc: 0.8685 - val_loss: 0.4220 - val_acc: 0.8465\n",
      "Epoch 27/150\n",
      "30/30 [==============================] - 1s 37ms/step - loss: 0.4144 - acc: 0.8658 - val_loss: 0.3883 - val_acc: 0.8899\n",
      "Epoch 28/150\n",
      "30/30 [==============================] - 1s 49ms/step - loss: 0.3894 - acc: 0.8900 - val_loss: 0.4201 - val_acc: 0.8466\n",
      "Epoch 29/150\n",
      "30/30 [==============================] - 1s 38ms/step - loss: 0.3991 - acc: 0.8657 - val_loss: 0.3729 - val_acc: 0.8941\n",
      "Epoch 30/150\n",
      "30/30 [==============================] - 1s 44ms/step - loss: 0.3708 - acc: 0.8842 - val_loss: 0.4567 - val_acc: 0.7933\n",
      "Epoch 31/150\n",
      "30/30 [==============================] - 2s 54ms/step - loss: 0.3835 - acc: 0.8790 - val_loss: 0.3991 - val_acc: 0.8553\n",
      "Epoch 32/150\n",
      "30/30 [==============================] - 1s 42ms/step - loss: 0.3760 - acc: 0.8783 - val_loss: 0.3608 - val_acc: 0.9002\n",
      "Epoch 33/150\n",
      "30/30 [==============================] - 2s 50ms/step - loss: 0.3404 - acc: 0.9052 - val_loss: 0.3763 - val_acc: 0.8770\n",
      "Epoch 34/150\n",
      "30/30 [==============================] - 2s 54ms/step - loss: 0.3609 - acc: 0.8793 - val_loss: 0.3730 - val_acc: 0.8834\n",
      "Epoch 35/150\n",
      "30/30 [==============================] - 1s 35ms/step - loss: 0.3887 - acc: 0.8538 - val_loss: 0.3891 - val_acc: 0.8583\n",
      "Epoch 36/150\n",
      "30/30 [==============================] - 1s 37ms/step - loss: 0.4188 - acc: 0.8271 - val_loss: 0.3582 - val_acc: 0.8844\n",
      "Epoch 37/150\n",
      "30/30 [==============================] - 1s 45ms/step - loss: 0.4147 - acc: 0.8284 - val_loss: 0.4435 - val_acc: 0.7995\n",
      "Epoch 38/150\n",
      "30/30 [==============================] - 1s 43ms/step - loss: 0.3467 - acc: 0.9038 - val_loss: 0.3763 - val_acc: 0.8621\n",
      "Epoch 39/150\n",
      "30/30 [==============================] - 1s 40ms/step - loss: 0.2940 - acc: 0.9293 - val_loss: 0.3770 - val_acc: 0.8648\n",
      "Epoch 40/150\n",
      "30/30 [==============================] - 1s 38ms/step - loss: 0.3541 - acc: 0.8903 - val_loss: 0.3689 - val_acc: 0.8639\n",
      "Epoch 41/150\n",
      "30/30 [==============================] - 1s 32ms/step - loss: 0.2851 - acc: 0.9303 - val_loss: 0.3459 - val_acc: 0.8877\n",
      "Epoch 42/150\n",
      "30/30 [==============================] - 1s 37ms/step - loss: 0.3581 - acc: 0.8657 - val_loss: 0.3774 - val_acc: 0.8609\n",
      "Epoch 43/150\n",
      "30/30 [==============================] - 1s 40ms/step - loss: 0.2801 - acc: 0.9322 - val_loss: 0.3625 - val_acc: 0.8750\n",
      "Epoch 44/150\n",
      "30/30 [==============================] - 1s 33ms/step - loss: 0.3920 - acc: 0.8510 - val_loss: 0.4029 - val_acc: 0.8401\n",
      "Epoch 45/150\n",
      "30/30 [==============================] - 1s 34ms/step - loss: 0.3687 - acc: 0.8665 - val_loss: 0.3714 - val_acc: 0.8631\n",
      "Epoch 46/150\n",
      "30/30 [==============================] - 1s 40ms/step - loss: 0.4540 - acc: 0.7998 - val_loss: 0.3517 - val_acc: 0.8793\n",
      "Epoch 47/150\n",
      "30/30 [==============================] - 1s 34ms/step - loss: 0.3849 - acc: 0.8521 - val_loss: 0.3517 - val_acc: 0.8794\n",
      "Epoch 48/150\n",
      "30/30 [==============================] - 1s 43ms/step - loss: 0.3468 - acc: 0.8793 - val_loss: 0.3268 - val_acc: 0.8940\n",
      "Epoch 49/150\n",
      "30/30 [==============================] - 1s 39ms/step - loss: 0.3761 - acc: 0.8409 - val_loss: 0.3315 - val_acc: 0.8927\n",
      "Epoch 50/150\n",
      "30/30 [==============================] - 1s 31ms/step - loss: 0.3585 - acc: 0.8669 - val_loss: 0.3512 - val_acc: 0.8764\n",
      "Epoch 51/150\n",
      "30/30 [==============================] - 1s 35ms/step - loss: 0.3134 - acc: 0.8933 - val_loss: 0.3677 - val_acc: 0.8629\n",
      "Epoch 52/150\n",
      "30/30 [==============================] - 1s 39ms/step - loss: 0.4049 - acc: 0.8265 - val_loss: 0.3377 - val_acc: 0.8830\n",
      "Epoch 53/150\n",
      "30/30 [==============================] - 1s 30ms/step - loss: 0.3784 - acc: 0.8537 - val_loss: 0.3556 - val_acc: 0.8676\n",
      "Epoch 54/150\n",
      "30/30 [==============================] - 1s 35ms/step - loss: 0.3080 - acc: 0.9046 - val_loss: 0.3281 - val_acc: 0.8867\n",
      "Epoch 55/150\n",
      "30/30 [==============================] - 1s 37ms/step - loss: 0.3920 - acc: 0.8524 - val_loss: 0.3954 - val_acc: 0.8432\n",
      "Epoch 56/150\n",
      "30/30 [==============================] - 1s 35ms/step - loss: 0.3388 - acc: 0.8789 - val_loss: 0.3522 - val_acc: 0.8717\n",
      "Epoch 57/150\n",
      "30/30 [==============================] - 1s 32ms/step - loss: 0.4363 - acc: 0.8141 - val_loss: 0.3151 - val_acc: 0.9054\n",
      "Epoch 58/150\n",
      "30/30 [==============================] - 1s 33ms/step - loss: 0.4308 - acc: 0.8222 - val_loss: 0.3404 - val_acc: 0.8776\n",
      "Epoch 59/150\n",
      "30/30 [==============================] - 1s 36ms/step - loss: 0.3132 - acc: 0.9047 - val_loss: 0.3330 - val_acc: 0.8897\n",
      "Epoch 60/150\n",
      "30/30 [==============================] - 1s 34ms/step - loss: 0.3409 - acc: 0.8775 - val_loss: 0.3667 - val_acc: 0.8551\n",
      "Epoch 61/150\n",
      "30/30 [==============================] - 1s 34ms/step - loss: 0.3887 - acc: 0.8385 - val_loss: 0.2877 - val_acc: 0.9218\n",
      "Epoch 62/150\n"
     ]
    },
    {
     "name": "stdout",
     "output_type": "stream",
     "text": [
      "30/30 [==============================] - 1s 41ms/step - loss: 0.3297 - acc: 0.8922 - val_loss: 0.3569 - val_acc: 0.8695\n",
      "Epoch 63/150\n",
      "30/30 [==============================] - 1s 39ms/step - loss: 0.3719 - acc: 0.8644 - val_loss: 0.3364 - val_acc: 0.8807\n",
      "Epoch 64/150\n",
      "30/30 [==============================] - 1s 33ms/step - loss: 0.3293 - acc: 0.8810 - val_loss: 0.3290 - val_acc: 0.8791\n",
      "Epoch 65/150\n",
      "30/30 [==============================] - 1s 36ms/step - loss: 0.2921 - acc: 0.9055 - val_loss: 0.3686 - val_acc: 0.8557\n",
      "Epoch 66/150\n",
      "30/30 [==============================] - 1s 33ms/step - loss: 0.3307 - acc: 0.8908 - val_loss: 0.3511 - val_acc: 0.8690\n",
      "Epoch 67/150\n",
      "30/30 [==============================] - 1s 31ms/step - loss: 0.3495 - acc: 0.8790 - val_loss: 0.3429 - val_acc: 0.8834\n",
      "Epoch 68/150\n",
      "30/30 [==============================] - 1s 35ms/step - loss: 0.4012 - acc: 0.8275 - val_loss: 0.3530 - val_acc: 0.8565\n",
      "Epoch 69/150\n",
      "30/30 [==============================] - 1s 31ms/step - loss: 0.3458 - acc: 0.8796 - val_loss: 0.3338 - val_acc: 0.8794\n",
      "Epoch 70/150\n",
      "30/30 [==============================] - 1s 35ms/step - loss: 0.3240 - acc: 0.8798 - val_loss: 0.3646 - val_acc: 0.8633\n",
      "Epoch 71/150\n",
      "30/30 [==============================] - 1s 37ms/step - loss: 0.3076 - acc: 0.8908 - val_loss: 0.3222 - val_acc: 0.8838\n",
      "Epoch 72/150\n",
      "30/30 [==============================] - 1s 30ms/step - loss: 0.2351 - acc: 0.9470 - val_loss: 0.3384 - val_acc: 0.8763\n",
      "Epoch 73/150\n",
      "30/30 [==============================] - 1s 28ms/step - loss: 0.3060 - acc: 0.8926 - val_loss: 0.3631 - val_acc: 0.8529\n",
      "Epoch 74/150\n",
      "30/30 [==============================] - 1s 34ms/step - loss: 0.4463 - acc: 0.7988 - val_loss: 0.3533 - val_acc: 0.8605\n",
      "Epoch 75/150\n",
      "30/30 [==============================] - 1s 42ms/step - loss: 0.3701 - acc: 0.8652 - val_loss: 0.2828 - val_acc: 0.9108\n",
      "Epoch 76/150\n",
      "30/30 [==============================] - 1s 35ms/step - loss: 0.3451 - acc: 0.8679 - val_loss: 0.3531 - val_acc: 0.8607\n",
      "Epoch 77/150\n",
      "30/30 [==============================] - 1s 32ms/step - loss: 0.3185 - acc: 0.8927 - val_loss: 0.3375 - val_acc: 0.8693\n",
      "Epoch 78/150\n",
      "30/30 [==============================] - 1s 31ms/step - loss: 0.3044 - acc: 0.8933 - val_loss: 0.3423 - val_acc: 0.8639\n",
      "Epoch 79/150\n",
      "30/30 [==============================] - 1s 30ms/step - loss: 0.2832 - acc: 0.9050 - val_loss: 0.3108 - val_acc: 0.8917\n",
      "Epoch 80/150\n",
      "30/30 [==============================] - 1s 37ms/step - loss: 0.4007 - acc: 0.8277 - val_loss: 0.3534 - val_acc: 0.8682\n",
      "Epoch 81/150\n",
      "30/30 [==============================] - 1s 34ms/step - loss: 0.3770 - acc: 0.8548 - val_loss: 0.3758 - val_acc: 0.8493\n",
      "Epoch 82/150\n",
      "30/30 [==============================] - 1s 33ms/step - loss: 0.2670 - acc: 0.9169 - val_loss: 0.3476 - val_acc: 0.8648\n",
      "Epoch 83/150\n",
      "30/30 [==============================] - 1s 37ms/step - loss: 0.4486 - acc: 0.8150 - val_loss: 0.3491 - val_acc: 0.8653\n",
      "Epoch 84/150\n",
      "30/30 [==============================] - 1s 37ms/step - loss: 0.3937 - acc: 0.8277 - val_loss: 0.3875 - val_acc: 0.8333\n",
      "Epoch 85/150\n",
      "30/30 [==============================] - 1s 38ms/step - loss: 0.3848 - acc: 0.8288 - val_loss: 0.3774 - val_acc: 0.8421\n",
      "Epoch 86/150\n",
      "30/30 [==============================] - 1s 37ms/step - loss: 0.2948 - acc: 0.8898 - val_loss: 0.3596 - val_acc: 0.8527\n",
      "Epoch 87/150\n",
      "30/30 [==============================] - 1s 39ms/step - loss: 0.3239 - acc: 0.8821 - val_loss: 0.3336 - val_acc: 0.8750\n",
      "Epoch 88/150\n",
      "30/30 [==============================] - 1s 32ms/step - loss: 0.3851 - acc: 0.8400 - val_loss: 0.3556 - val_acc: 0.8536\n",
      "Epoch 89/150\n",
      "30/30 [==============================] - 1s 37ms/step - loss: 0.2621 - acc: 0.9288 - val_loss: 0.3356 - val_acc: 0.8759\n",
      "Epoch 90/150\n",
      "30/30 [==============================] - 1s 43ms/step - loss: 0.3396 - acc: 0.8792 - val_loss: 0.3289 - val_acc: 0.8766\n",
      "Epoch 91/150\n",
      "30/30 [==============================] - 1s 33ms/step - loss: 0.3400 - acc: 0.8813 - val_loss: 0.3578 - val_acc: 0.8592\n",
      "Epoch 92/150\n",
      "30/30 [==============================] - 1s 33ms/step - loss: 0.3710 - acc: 0.8248 - val_loss: 0.2859 - val_acc: 0.9101\n",
      "Epoch 93/150\n",
      "30/30 [==============================] - 1s 35ms/step - loss: 0.3551 - acc: 0.8659 - val_loss: 0.4044 - val_acc: 0.8285\n",
      "Epoch 94/150\n",
      "30/30 [==============================] - 1s 30ms/step - loss: 0.3758 - acc: 0.8407 - val_loss: 0.3315 - val_acc: 0.8757\n",
      "Epoch 95/150\n",
      "30/30 [==============================] - 1s 29ms/step - loss: 0.2993 - acc: 0.9076 - val_loss: 0.3455 - val_acc: 0.8638\n",
      "Epoch 96/150\n",
      "30/30 [==============================] - 1s 30ms/step - loss: 0.4137 - acc: 0.8289 - val_loss: 0.3584 - val_acc: 0.8635\n",
      "Epoch 97/150\n",
      "30/30 [==============================] - 1s 43ms/step - loss: 0.4137 - acc: 0.8286 - val_loss: 0.3812 - val_acc: 0.8331\n",
      "Epoch 98/150\n",
      "30/30 [==============================] - 1s 31ms/step - loss: 0.3150 - acc: 0.8685 - val_loss: 0.3360 - val_acc: 0.8677\n",
      "Epoch 99/150\n",
      "30/30 [==============================] - 1s 37ms/step - loss: 0.2839 - acc: 0.9114 - val_loss: 0.2991 - val_acc: 0.8945\n",
      "Epoch 100/150\n",
      "30/30 [==============================] - 1s 38ms/step - loss: 0.3928 - acc: 0.8253 - val_loss: 0.3274 - val_acc: 0.8771\n",
      "Epoch 101/150\n",
      "30/30 [==============================] - 1s 33ms/step - loss: 0.3268 - acc: 0.8643 - val_loss: 0.3197 - val_acc: 0.8794\n",
      "Epoch 102/150\n",
      "30/30 [==============================] - 1s 30ms/step - loss: 0.3330 - acc: 0.8648 - val_loss: 0.3752 - val_acc: 0.8436\n",
      "Epoch 103/150\n",
      "30/30 [==============================] - 1s 36ms/step - loss: 0.3500 - acc: 0.8531 - val_loss: 0.3606 - val_acc: 0.8612\n",
      "Epoch 104/150\n",
      "30/30 [==============================] - 1s 27ms/step - loss: 0.3554 - acc: 0.8440 - val_loss: 0.3036 - val_acc: 0.8989\n",
      "Epoch 105/150\n",
      "30/30 [==============================] - 1s 37ms/step - loss: 0.3106 - acc: 0.8802 - val_loss: 0.2825 - val_acc: 0.9183\n",
      "Epoch 106/150\n",
      "30/30 [==============================] - 1s 34ms/step - loss: 0.3627 - acc: 0.8638 - val_loss: 0.3399 - val_acc: 0.8687\n",
      "Epoch 107/150\n",
      "30/30 [==============================] - 1s 26ms/step - loss: 0.3296 - acc: 0.8656 - val_loss: 0.3513 - val_acc: 0.8656\n",
      "Epoch 108/150\n",
      "30/30 [==============================] - 1s 33ms/step - loss: 0.2963 - acc: 0.8915 - val_loss: 0.3222 - val_acc: 0.8781\n",
      "Epoch 109/150\n",
      "30/30 [==============================] - 1s 32ms/step - loss: 0.3990 - acc: 0.8124 - val_loss: 0.3456 - val_acc: 0.8681\n",
      "Epoch 110/150\n",
      "30/30 [==============================] - 1s 30ms/step - loss: 0.3080 - acc: 0.8820 - val_loss: 0.3275 - val_acc: 0.8691\n",
      "Epoch 111/150\n",
      "30/30 [==============================] - 1s 37ms/step - loss: 0.3511 - acc: 0.8675 - val_loss: 0.3646 - val_acc: 0.8417\n",
      "Epoch 112/150\n",
      "30/30 [==============================] - 1s 29ms/step - loss: 0.3341 - acc: 0.8634 - val_loss: 0.3398 - val_acc: 0.8789\n",
      "Epoch 113/150\n",
      "30/30 [==============================] - 1s 27ms/step - loss: 0.2949 - acc: 0.9055 - val_loss: 0.3579 - val_acc: 0.8590\n",
      "Epoch 114/150\n",
      "30/30 [==============================] - 1s 36ms/step - loss: 0.3351 - acc: 0.8793 - val_loss: 0.3146 - val_acc: 0.8831\n",
      "Epoch 115/150\n",
      "30/30 [==============================] - 1s 34ms/step - loss: 0.3049 - acc: 0.8780 - val_loss: 0.3316 - val_acc: 0.8635\n",
      "Epoch 116/150\n",
      "30/30 [==============================] - 1s 34ms/step - loss: 0.3128 - acc: 0.8775 - val_loss: 0.3756 - val_acc: 0.8414\n",
      "Epoch 117/150\n",
      "30/30 [==============================] - 1s 32ms/step - loss: 0.3668 - acc: 0.8617 - val_loss: 0.3193 - val_acc: 0.8842\n",
      "Epoch 118/150\n",
      "30/30 [==============================] - 1s 39ms/step - loss: 0.3836 - acc: 0.8385 - val_loss: 0.3237 - val_acc: 0.8800\n",
      "Epoch 119/150\n",
      "30/30 [==============================] - 2s 54ms/step - loss: 0.3258 - acc: 0.8695 - val_loss: 0.3533 - val_acc: 0.8490\n",
      "Epoch 120/150\n",
      "30/30 [==============================] - 1s 31ms/step - loss: 0.2920 - acc: 0.8926 - val_loss: 0.3442 - val_acc: 0.8674\n",
      "Epoch 121/150\n",
      "30/30 [==============================] - 1s 33ms/step - loss: 0.2874 - acc: 0.8804 - val_loss: 0.3321 - val_acc: 0.8771\n",
      "Epoch 122/150\n",
      "30/30 [==============================] - 1s 35ms/step - loss: 0.3509 - acc: 0.8695 - val_loss: 0.3280 - val_acc: 0.8711\n",
      "Epoch 123/150\n"
     ]
    },
    {
     "name": "stdout",
     "output_type": "stream",
     "text": [
      "30/30 [==============================] - 1s 37ms/step - loss: 0.3981 - acc: 0.7957 - val_loss: 0.3619 - val_acc: 0.8521\n",
      "Epoch 124/150\n",
      "30/30 [==============================] - 1s 38ms/step - loss: 0.3340 - acc: 0.8783 - val_loss: 0.2979 - val_acc: 0.8937\n",
      "Epoch 125/150\n",
      "30/30 [==============================] - 1s 33ms/step - loss: 0.2608 - acc: 0.9186 - val_loss: 0.2905 - val_acc: 0.8963\n",
      "Epoch 126/150\n",
      "30/30 [==============================] - 1s 29ms/step - loss: 0.3473 - acc: 0.8788 - val_loss: 0.3424 - val_acc: 0.8587\n",
      "Epoch 127/150\n",
      "30/30 [==============================] - 1s 31ms/step - loss: 0.2985 - acc: 0.8941 - val_loss: 0.2890 - val_acc: 0.9074\n",
      "Epoch 128/150\n",
      "30/30 [==============================] - 1s 29ms/step - loss: 0.3941 - acc: 0.8427 - val_loss: 0.3954 - val_acc: 0.8223\n",
      "Epoch 129/150\n",
      "30/30 [==============================] - 1s 27ms/step - loss: 0.3479 - acc: 0.8662 - val_loss: 0.3347 - val_acc: 0.8623\n",
      "Epoch 130/150\n",
      "30/30 [==============================] - 1s 32ms/step - loss: 0.2526 - acc: 0.9189 - val_loss: 0.3674 - val_acc: 0.8480\n",
      "Epoch 131/150\n",
      "30/30 [==============================] - 1s 38ms/step - loss: 0.3040 - acc: 0.8922 - val_loss: 0.3399 - val_acc: 0.8570\n",
      "Epoch 132/150\n",
      "30/30 [==============================] - 1s 29ms/step - loss: 0.4058 - acc: 0.8185 - val_loss: 0.3408 - val_acc: 0.8659\n",
      "Epoch 133/150\n",
      "30/30 [==============================] - 1s 32ms/step - loss: 0.3903 - acc: 0.8282 - val_loss: 0.3627 - val_acc: 0.8517\n",
      "Epoch 134/150\n",
      "30/30 [==============================] - 1s 35ms/step - loss: 0.3326 - acc: 0.8941 - val_loss: 0.3088 - val_acc: 0.8810\n",
      "Epoch 135/150\n",
      "30/30 [==============================] - 1s 35ms/step - loss: 0.3717 - acc: 0.8523 - val_loss: 0.3739 - val_acc: 0.8472\n",
      "Epoch 136/150\n",
      "30/30 [==============================] - 1s 33ms/step - loss: 0.2800 - acc: 0.9048 - val_loss: 0.3221 - val_acc: 0.8768\n",
      "Epoch 137/150\n",
      "30/30 [==============================] - 1s 40ms/step - loss: 0.2791 - acc: 0.9076 - val_loss: 0.3784 - val_acc: 0.8442\n",
      "Epoch 138/150\n",
      "30/30 [==============================] - 1s 33ms/step - loss: 0.3635 - acc: 0.8506 - val_loss: 0.3256 - val_acc: 0.8720\n",
      "Epoch 139/150\n",
      "30/30 [==============================] - 1s 30ms/step - loss: 0.3030 - acc: 0.9020 - val_loss: 0.3485 - val_acc: 0.8641\n",
      "Epoch 140/150\n",
      "30/30 [==============================] - 1s 34ms/step - loss: 0.3155 - acc: 0.8813 - val_loss: 0.3358 - val_acc: 0.8658\n",
      "Epoch 141/150\n",
      "30/30 [==============================] - 1s 36ms/step - loss: 0.3176 - acc: 0.8922 - val_loss: 0.3716 - val_acc: 0.8489\n",
      "Epoch 142/150\n",
      "30/30 [==============================] - 1s 41ms/step - loss: 0.3321 - acc: 0.8782 - val_loss: 0.3289 - val_acc: 0.8805\n",
      "Epoch 143/150\n",
      "30/30 [==============================] - 1s 28ms/step - loss: 0.3213 - acc: 0.8545 - val_loss: 0.2887 - val_acc: 0.8949\n",
      "Epoch 144/150\n",
      "30/30 [==============================] - 1s 34ms/step - loss: 0.3170 - acc: 0.8651 - val_loss: 0.3396 - val_acc: 0.8570\n",
      "Epoch 145/150\n",
      "30/30 [==============================] - 1s 31ms/step - loss: 0.3481 - acc: 0.8652 - val_loss: 0.3517 - val_acc: 0.8563\n",
      "Epoch 146/150\n",
      "30/30 [==============================] - 1s 30ms/step - loss: 0.3650 - acc: 0.8305 - val_loss: 0.3709 - val_acc: 0.8585\n",
      "Epoch 147/150\n",
      "30/30 [==============================] - 1s 26ms/step - loss: 0.3343 - acc: 0.8837 - val_loss: 0.2891 - val_acc: 0.8924\n",
      "Epoch 148/150\n",
      "30/30 [==============================] - 1s 31ms/step - loss: 0.4227 - acc: 0.8058 - val_loss: 0.3434 - val_acc: 0.8615\n",
      "Epoch 149/150\n",
      "30/30 [==============================] - 1s 28ms/step - loss: 0.3396 - acc: 0.8533 - val_loss: 0.3574 - val_acc: 0.8582\n",
      "Epoch 150/150\n",
      "30/30 [==============================] - 1s 33ms/step - loss: 0.3711 - acc: 0.8438 - val_loss: 0.3056 - val_acc: 0.8803\n"
     ]
    },
    {
     "data": {
      "text/plain": [
       "<keras.callbacks.History at 0x26a01b55e80>"
      ]
     },
     "execution_count": 288,
     "metadata": {},
     "output_type": "execute_result"
    }
   ],
   "source": [
    "# batch_size = 100\n",
    "# timesteps = timesteps_padding(auto_df[\"vectors\"].values)\n",
    "# print(\"Timesteps:\", timesteps)\n",
    "# print(\"Batch size:\", batch_size)\n",
    "hidden_size1 = 80\n",
    "hidden_size2 = 32\n",
    "\n",
    "model = Sequential()\n",
    "model.add(LSTM(hidden_size1, return_sequences=True, input_shape=(None, 128)))\n",
    "# model.add(LSTM(hidden_size2, return_sequences=False))\n",
    "model.add(Dense(5, activation=\"sigmoid\"))\n",
    "# model.add(Dense(num_classes, activation='softmax'))\n",
    "\n",
    "model.compile(loss='binary_crossentropy',\n",
    "              optimizer='sgd', metrics=[\"accuracy\"])\n",
    "\n",
    "model.fit_generator(rnd_labeled_data_generator(X_train, y_train), \n",
    "                    validation_data=rnd_labeled_data_generator(X_test, y_test), \n",
    "                    steps_per_epoch=30, epochs=150, verbose=1, validation_steps=100)"
   ]
  },
  {
   "cell_type": "code",
   "execution_count": 220,
   "metadata": {},
   "outputs": [],
   "source": [
    "def predict(X, model):\n",
    "    predictions = []\n",
    "    for i, sample in enumerate(X):\n",
    "        clear_output(True)\n",
    "        display(\"Retrieving {}/{}\".format(i + 1, X.shape[0]))\n",
    "        predictions.append(model.predict(np.reshape(sample, [1, *sample.shape]), steps=1).reshape(-1, 5))\n",
    "#     predictions = np.array(predictions)\n",
    "#     predictions = np.reshape(predictions, (predictions.shape[0]))\n",
    "    return predictions\n",
    "    "
   ]
  },
  {
   "cell_type": "markdown",
   "metadata": {},
   "source": [
    "model.predict() автоматически пытается склеить последовательности разной длины в один 2D-массив и ломается"
   ]
  },
  {
   "cell_type": "code",
   "execution_count": 276,
   "metadata": {
    "collapsed": true
   },
   "outputs": [],
   "source": [
    "def result_to_one_hot(prediction):\n",
    "    # Усреднение ответов для каждого слова внутри текста, потом выбор максимума\n",
    "#     max_i = np.argmax(np.mean(prediction, axis=0).reshape(-1))\n",
    "#     res = np.zeros(5)\n",
    "#     res[max_i] = 1\n",
    "#     return res.astype(int)\n",
    "    # Выбор оценки исходя из самого значимого слова\n",
    "#     max_i = np.argmax(np.max(prediction, axis=0))\n",
    "#     res = np.zeros(5)\n",
    "#     res[max_i] = 1\n",
    "#     return res.astype(int)\n",
    "    # Выбор по количеству максимальных\n",
    "    # значений среди слов в пределах рубрики\n",
    "    max_i = np.argmax(np.argmax(prediction, axis=0))\n",
    "    res = np.zeros(5)\n",
    "    res[max_i] = 1\n",
    "    return res.astype(int)\n",
    "\n",
    "\n",
    "def decode_one_hot(oh_matrix):\n",
    "    return np.where(oh_matrix == 1)[1] + 1"
   ]
  },
  {
   "cell_type": "code",
   "execution_count": 289,
   "metadata": {},
   "outputs": [
    {
     "data": {
      "text/plain": [
       "'Retrieving 6142/6142'"
      ]
     },
     "metadata": {},
     "output_type": "display_data"
    }
   ],
   "source": [
    "res = predict(X_test, model)"
   ]
  },
  {
   "cell_type": "code",
   "execution_count": 290,
   "metadata": {},
   "outputs": [],
   "source": [
    "oh_res = np.array(list(map(result_to_one_hot, res)))"
   ]
  },
  {
   "cell_type": "code",
   "execution_count": 291,
   "metadata": {},
   "outputs": [
    {
     "name": "stdout",
     "output_type": "stream",
     "text": [
      "Balanced accuracy:\t\t0.21376515198416973\n",
      "Balanced and adjusted accuracy:\t0.01720643998021215\n",
      "Unbalanced accuracy:\t\t0.554379680885705\n"
     ]
    }
   ],
   "source": [
    "print(\"Balanced accuracy:\\t\\t{}\".format(balanced_accuracy_score(decode_one_hot(y_test), \n",
    "                                                                         decode_one_hot(oh_res), adjusted=False)))\n",
    "print(\"Balanced and adjusted accuracy:\\t{}\".format(balanced_accuracy_score(decode_one_hot(y_test), \n",
    "                                                                         decode_one_hot(oh_res), adjusted=True)))\n",
    "print(\"Unbalanced accuracy:\\t\\t{}\".format(accuracy_score(decode_one_hot(y_test), \n",
    "                                                         decode_one_hot(oh_res))))"
   ]
  },
  {
   "cell_type": "code",
   "execution_count": 292,
   "metadata": {},
   "outputs": [
    {
     "data": {
      "text/plain": [
       "array([5, 5, 5, 5, 5, 5, 4, 4, 4, 5], dtype=int64)"
      ]
     },
     "execution_count": 292,
     "metadata": {},
     "output_type": "execute_result"
    }
   ],
   "source": [
    "decode_one_hot(y_test[:10])"
   ]
  },
  {
   "cell_type": "code",
   "execution_count": 293,
   "metadata": {},
   "outputs": [
    {
     "data": {
      "text/plain": [
       "array([5, 5, 4, 2, 3, 5, 5, 1, 5, 5], dtype=int64)"
      ]
     },
     "execution_count": 293,
     "metadata": {},
     "output_type": "execute_result"
    }
   ],
   "source": [
    "decode_one_hot(oh_res[:10])"
   ]
  },
  {
   "cell_type": "code",
   "execution_count": 294,
   "metadata": {},
   "outputs": [
    {
     "data": {
      "text/plain": [
       "array([[0, 0, 0, 0, 1],\n",
       "       [0, 0, 0, 0, 1],\n",
       "       [0, 0, 0, 1, 0],\n",
       "       [0, 1, 0, 0, 0],\n",
       "       [0, 0, 1, 0, 0],\n",
       "       [0, 0, 0, 0, 1],\n",
       "       [0, 0, 0, 0, 1],\n",
       "       [1, 0, 0, 0, 0],\n",
       "       [0, 0, 0, 0, 1],\n",
       "       [0, 0, 0, 0, 1]])"
      ]
     },
     "execution_count": 294,
     "metadata": {},
     "output_type": "execute_result"
    }
   ],
   "source": [
    "oh_res[:10]"
   ]
  }
 ],
 "metadata": {
  "kernelspec": {
   "display_name": "Python 3",
   "language": "python",
   "name": "python3"
  }
 },
 "nbformat": 4,
 "nbformat_minor": 2
}
